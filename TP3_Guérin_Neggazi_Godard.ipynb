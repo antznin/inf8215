{
 "cells": [
  {
   "cell_type": "markdown",
   "metadata": {
    "colab_type": "text",
    "id": "5fHWJhwOXGzh"
   },
   "source": [
    "# INF8215 - Intelligence artif.: méthodes et algorithmes \n",
    "## Automne 2019 - TP3 - Apprentissage machine \n",
    "### Membres de l'équipe\n",
    "    - Gabriel Guérin\n",
    "    - Rayan Neggazi\n",
    "    - Antonin Godard\n",
    "\n",
    "Nom d'équipe sur Kaggle: \n",
    "\n"
   ]
  },
  {
   "cell_type": "markdown",
   "metadata": {
    "colab_type": "text",
    "id": "TmGvqtSVgfXi"
   },
   "source": [
    "## Directives de remise\n",
    "Le travail sera réalisé avec la  même équipe que pour les TPs précédents. Vous remettrez ce fichier nommé TP3\\_NomDuMembre1\\_NomDuMembre2\\_NomDuMembre3.ipynb et vos fichiers de soumission csv dans la boîte de remise sur moodle. \n",
    "\n",
    "Tout devra être remis avant le **13 décembre à 23h55**. Tout travail en retard sera pénalisé d’une valeur de 10\\% par jour de retard.\n",
    "\n",
    "## Barème\n",
    "Partie 1: 9 points\n",
    "\n",
    "Partie 2: 9 points\n",
    "\n",
    "Partie 3: 2 points\n",
    "\n",
    "Bonus : 2 points\n",
    "\n",
    "Pour un total de 22 points possibles sur 20 points.\n"
   ]
  },
  {
   "cell_type": "markdown",
   "metadata": {
    "colab_type": "text",
    "id": "P1et8f3nXGzk"
   },
   "source": [
    "## Apprentissage machine\n",
    "L'apprentissage machine est un domaine de plus en plus exploré et exploité. Pouvoir faire des prédictions en se basant sur des données ouvre la porte à plein de possibilités pour faciliter la vie des gens. Par exemple, un modèle pourrait prédire si un patient souffre ou non d'une maladie en se basant sur des mesures de santé.\n",
    "\n",
    "### But\n",
    "Le but de ce TP est de vous donner un aperçu du déroulement général d'un projet de machine learning tout en vous familiarisant avec des librairies python adaptées.\n",
    "\n",
    "Dans la première partie, vous implémenterez un algorithme de classification multiclasse appelé **softmax regression** à l'aide uniquement de la bibliothèque **numpy** et l'intégrerez à la bibliothèque **scikit-learn**.\n",
    "\n",
    "Dans la deuxième partie, vous prendrez connaissance du **dataset** utilisé pour ce projet. Et vous serez amenés à effectuer le **preprocessing** de ces données pour qu'elles soient utilisables dans les algorithmes de machine learning classiques. Vous utiliserez les bibliothèques **pandas** et **scikit-learn**.\n",
    "\n",
    "Enfin, dans la troisième partie, vous comparerez l'efficacité du modèle que vous avez implémenté avec d'autres modèles déjà implémentés dans **sklearn**. Puis vous tenterez d'améliorer les performances de l'algorithme sélectionné.\n",
    "\n",
    "La dernière partie du TP est de soumettre vos prédictions sur **Kaggle**. Vous devez créer un compte et formez une équipe sur Kaggle: https://www.kaggle.com/. La compétition pour le TP se trouve à l'adresse suivante: https://www.kaggle.com/t/7e5ae1ae92d14e06b2560c9ac5602bf6.\n",
    "\n",
    "### Installation\n",
    "\n",
    "Pour installer **pandas** et **scikit-learn** le plus simple est de télécharger et d'installer **Anaconda**. Cet environnement python regroupe les packages les plus utilisés pour le calcul scientifique et la science des données. Vous pouvez aussi installer directement les packages avec pip.\n",
    "\n",
    "Assurez-vous d'avoir au moins la version **20.0** de **scikit-learn**.\n",
    "\n",
    "Vous trouverez la distribution d'anaconda ici : https://www.anaconda.com/download/ .\n"
   ]
  },
  {
   "cell_type": "markdown",
   "metadata": {
    "colab_type": "text",
    "id": "LYyOL7QAXGzm"
   },
   "source": [
    "## Bonus 1: Compétition (2 points)\n",
    "\n",
    "Lorsque vous soumettez vos résultats sur Kaggle, vous obtiendrez votre performance en terme de **Mean F-Score**. Votre score sera affiché sur le leaderboard publique de Kaggle.  Le top 10 sur le leaderboard privée recevront un bonus de 2pts. Vous pouvez soumettre plusieurs fois et choisir 2 soumissions pour être pris en compte pour le classement final. Attention de ne pas overfit sur les données de tests du classement publique."
   ]
  },
  {
   "cell_type": "markdown",
   "metadata": {
    "colab_type": "text",
    "id": "517JwzlPXGzp"
   },
   "source": [
    "# 1. Softmax Regression (12 points)\n",
    "\n",
    "Dans cette partie vous implémenterez **softmax regression** la généralisation de **logistic regression** qui permet d'effectuer de la classification pour un nombre de classe supérieur à 2.\n",
    "\n",
    "**Pour cet exercice, la contrainte est d'utiliser uniquement la bibliothèque numpy**\n",
    "\n",
    "## Encapsulation avec sklearn\n",
    "\n",
    "La classe **SoftmaxClassifier** hérite des classes **BaseEstimator** et **ClassifierMixin** de **scikit-learn** ce qui nous permettra d'utiliser facilement avec notre classifier les outils fournis par scikit-learn dans la suite du TP.\n",
    "\n",
    "Pour la compatibilité, le classifier doit implémenter obligatoirement les méthodes:\n",
    "\n",
    "* **fit**: responsable de l'entraînement du modèle\n",
    "* **predict_proba**: permet de prédire la probabilité de chaque classe pour chaque exemple du dataset fourni.\n",
    "* **predict**: permet de prédire la classe pour chaque exemple du dataset fourni.\n",
    "* **score**: permet de quantifier l'écart entre les classes prédites et les classes réelles pour le dataset fourni\n",
    "* **fit_predict**: permet de faire un fit et retourne les prédictions faites avec cet ensemble.\n",
    "\n",
    "\n",
    "## Train/Test set:\n",
    "\n",
    "Quand on veut tester les performances de l'apprentissage d'un algorithme de machine learning, on **ne le teste pas sur les données utilisées pour l'apprentissage**.\n",
    "\n",
    "En effet, ce qui nous intéresse c'est que notre algorithme soit **capable de généraliser** ses prédictions à des données qu'il n'a **jamais vu**.\n",
    "\n",
    "Pour illustrer, si on teste un algorithme sur les données d'entrainement, on teste sa capacité à **apprendre par coeur** le dataset et non à **généraliser**.\n",
    "\n",
    "Par conséquent, quand on reçoit un nouveau dataset, la première chose à faire et de le **diviser en deux parties**: un ensemble d'**entraînement** (**70-80%** du dataset) et un ensemble de **test**(**20-30%** du dataset).\n",
    "\n",
    "Tous les algorithmes de **traitement des données** et d'apprentissage devront être appris uniquement sur l'ensemble d'entraînement et appliqués ensuite sur l'ensemble de test.\n",
    "\n",
    "Cela garantit l'absence de connaissances préalables de l'ensemble de test lors de l'entrainement.\n",
    "\n",
    "## Gradient descent\n",
    "\n",
    "La descente de gradient est un algorithme qui permet trouver la solution optimale d'un certains nombre de problèmes. Le principe est le suivant: on définit une **fonction de coût J**  qui caractérise le problème.\n",
    "Cette fonction dépend d'un ensemble de paramètres $\\theta$. La descente de gradient cherche à **minimiser** la fonction de coût en **modifiant itérativement** les paramètres.\n",
    "\n",
    "### Gradient\n",
    "\n",
    "Le gradient de la fonction de coût pour un $\\theta$ donné, correspond à la direction dans laquelle il faut modifier $\\theta$ pour augmenter la valeur de la fonction de coût. Cela correspond donc à la dérivée de la fonction de coût.\n",
    "La fonction de coût est minimale quand le gradient est nul.\n",
    "\n",
    "Concrètement, on initialize $\\theta$ aléatoirement, et on effectue à chaque itération un pas pour réduire la fonction de coût jusqu'à convergence de l'algorithme à un minimum.\n",
    "\n",
    "### Learning rate\n",
    "\n",
    "Le taux d'apprentissage correspond à la taille du pas que l'on va effectuer dans la direction du gradient.\n",
    "Plus il est grand, plus la convergence est rapide mais il y a un risque que l'algorithme diverge.\n",
    "\n",
    "Plus il est petit, plus la convergence est lente.\n",
    "\n",
    "### Batch gradient descent\n",
    "\n",
    "Il existe plusieurs algorithmes de descente de gradient. Nous utiliserons Batch gradient descent.\n",
    "\n",
    "Dans cet algorithme, avant de mettre à jour $\\theta$, on calcule les gradients sur l'ensemble des exemples d'entraînement.\n",
    "\n",
    "### Epoch\n",
    "\n",
    "Il s'agit d'un pas de la descente de gradient, soit une mise à jour de gradient.\n",
    "\n",
    "### Bias/Variance tradeoff\n",
    "\n",
    "Lorsqu'on entraine un algorithme de machine learning on cherche un équilibre entre **biais** et **variance**.\n",
    "\n",
    "Un modèle avec un **biais fort**, est un modèle qui est **trop simple** pour la structure donnée considérée (modèle linéaire pour données quadratiques), cela limite la capacité du modèle à généraliser. On appelle aussi le biais **underfitting**.\n",
    "\n",
    "Un modèle avec une **variance élevée** signifie qu'il est sensible aux petites variations dans les données d'entrainement, cela correspond à l'**overfitting**, c'est-à-dire que le modèle est trop proche de la structure de l'ensemble d'entrainement ce qui **limite sa capacité à généraliser**.\n",
    "\n",
    "Un modèle avec un **biais important** aura une **mauvaise performance** sur l'ensemble d'**entraînement**.\n",
    "Un modèle avec une **variance importante** aura une performance bien **moins bonne** sur l'ensemble de **test** que sur l'ensemble d'**entrainement**.\n",
    "\n",
    "Le classifier **SoftmaxRegression** contient les champs suivants:\n",
    "\n",
    "- `lr` : le rythme d'apprentissage pour la mise à jour des points lors de la descente du gradient;\n",
    "- `n_epochs`: le nombre d'itérations;\n",
    "- `eps`: le seuil pour garder les probabilités dans l'intervalle [self.eps;1.-self.eps];\n",
    "- `threshold`: seuil d'arrèt pour le early stopping;\n",
    "- `early_stopping`: active le early stopping\n",
    "- `nb_features`: le nombre d'attributs pour chaque instance\n",
    "- `nb_classes`: le nombre de classes possible pour le dataset\n",
    "- `theta_`:  la matrice de poids"
   ]
  },
  {
   "cell_type": "code",
   "execution_count": 35,
   "metadata": {
    "colab": {},
    "colab_type": "code",
    "id": "UhACgVBXAcUW"
   },
   "outputs": [],
   "source": [
    "from sklearn.base import BaseEstimator, ClassifierMixin\n",
    "import numpy as np\n",
    "\n",
    "\n",
    "class SoftmaxClassifier(BaseEstimator, ClassifierMixin):  \n",
    "\n",
    "    def __init__(self, lr = 0.01, alpha = 100, n_epochs = 1000, eps = 1.0e-5,threshold = 1.0e-10 , early_stopping = True):\n",
    "       \n",
    "        self.lr = lr \n",
    "        self.alpha = alpha\n",
    "        self.n_epochs = n_epochs\n",
    "        self.eps = eps\n",
    "        self.threshold = threshold\n",
    "        self.early_stopping = early_stopping\n",
    "        \n",
    "\n",
    "\n",
    "    \"\"\"\n",
    "        In:\n",
    "        X : l'ensemble d'exemple de taille nb_example x nb_features\n",
    "        y : l'ensemble d'étiquette de taille nb_example x 1\n",
    "\n",
    "        Principe:\n",
    "        Initialiser la matrice de poids\n",
    "        Ajouter une colonne de bias à X\n",
    "        Pour chaque epoch\n",
    "            calculer les probabilités\n",
    "            calculer le log loss\n",
    "            calculer le gradient\n",
    "            mettre à jouer les poids\n",
    "            sauvegarder le loss\n",
    "            tester pour early stopping\n",
    "\n",
    "        Out:\n",
    "        self, in sklearn the fit method returns the object itself\n",
    "    \"\"\"\n",
    "\n",
    "    def fit(self, X, y=None):\n",
    "        \n",
    "        prev_loss = np.inf\n",
    "        self.losses_ = []\n",
    "\n",
    "        self.nb_feature = X.shape[1]\n",
    "        self.nb_classes = np.amax(y) + 1\n",
    "        \n",
    "        X_bias = np.c_[np.ones(len(X)), X] \n",
    "        self.theta_  = np.random.rand(self.nb_feature + 1, self.nb_classes)\n",
    "\n",
    "        for epoch in range(self.n_epochs):\n",
    "            \n",
    "            probas = self.predict_proba(X, y)\n",
    "            loss = self._cost_function(probas, y)\n",
    "            \n",
    "            self.losses_.append(loss)\n",
    "            self.theta_ = self.theta_ - self.lr * self._get_gradient(X_bias,y,probas)\n",
    "\n",
    "            if self.early_stopping and np.abs(prev_loss - loss) < self.threshold:\n",
    "                break\n",
    "\n",
    "            prev_loss = loss\n",
    "        \n",
    "        return (self)\n",
    "\n",
    "    def predict_proba(self, X, y=None):\n",
    "        try:\n",
    "            getattr(self, \"theta_\")\n",
    "        except AttributeError:\n",
    "            raise RuntimeError(\"You must train classifer before predicting data!\")\n",
    "        \n",
    "        X_bias = np.c_[np.ones(len(X)), X]\n",
    "        logits = np.dot(X_bias, self.theta_) \n",
    "        return (self._softmax(logits))\n",
    "\n",
    "    \n",
    "    def predict(self, X, y=None):\n",
    "        try:\n",
    "            getattr(self, \"theta_\")\n",
    "        except AttributeError:\n",
    "            raise RuntimeError(\"You must train classifer before predicting data!\")\n",
    "        \n",
    "        probas = self.predict_proba(X)\n",
    "        max_probas = np.amax(probas, axis = 1)\n",
    "        max_probas_i = np.argmax(probas, axis = 1)\n",
    "        return (max_probas_i)\n",
    "\n",
    "    \n",
    "    def fit_predict(self, X, y=None):\n",
    "        self.fit(X, y)\n",
    "        return self.predict(X,y)\n",
    " \n",
    "\n",
    "    def score(self, X, y=None):\n",
    "        return (self._cost_function(self.predict_proba(X,y),y))\n",
    "    \n",
    "    \n",
    "    def _cost_function(self,probabilities, y ): \n",
    "        probabilities = np.clip(probabilities, self.eps, 1 - self.eps)\n",
    "        return (-1/probabilities.shape[0] * (np.sum(np.multiply(self._one_hot(y), np.log10(probabilities)))))\n",
    "\n",
    "    def _one_hot(self,y):\n",
    "        height = len(y)\n",
    "        \n",
    "        yohe= np.zeros((height, self.nb_classes))\n",
    "        \n",
    "        for i in range(height):\n",
    "            yohe[i,y[i]] = 1\n",
    "            \n",
    "        return yohe\n",
    "\n",
    "    \n",
    "    def _softmax(self,z):\n",
    "        return np.exp(z) / np.transpose(np.sum(np.exp(z), axis = 1)[np.newaxis])\n",
    "\n",
    "    def _get_gradient(self,X_bias,y, probas):\n",
    "        return (1/probas.shape[0] * np.dot(np.transpose(X_bias), (probas - self._one_hot(y))))\n",
    "    \n",
    "    "
   ]
  },
  {
   "cell_type": "markdown",
   "metadata": {
    "colab_type": "text",
    "id": "Yv83c1sWXGzq"
   },
   "source": [
    "### 1.1 One-hot-encoding (1 point)\n",
    "\n",
    "En machine learning pour représenter un vecteur de données catégoriques, on utilise le one-hot encoding.\n",
    "\n",
    "Pour un vecteur comportant 5 exemples et 3 catégories différentes, on le représente sous forme d'une matrice de taille 5 par 3. Cette matrice est entièrement remplie de 0 sauf à l'indice correspondant au numéro de la classe pour chaque exemple.\n",
    "\n",
    "\n",
    "Par exemple\n",
    "$ y = \\left(\\begin{array}{cc} \n",
    "0 \\\\\n",
    "0 \\\\\n",
    "1 \\\\\n",
    "2 \\\\\n",
    "1 \\\\\n",
    "\\end{array}\\right) $\n",
    "\n",
    "devient:\n",
    "\n",
    "$ yohe =  \\left(\\begin{array}{cc} \n",
    "1. & 0. & 0.\\\\\n",
    "1. & 0. & 0.\\\\\n",
    "0. & 1. & 0.\\\\\n",
    "0. & 0. & 1.\\\\\n",
    "0. & 1. & 0.\\\\\n",
    "\\end{array}\\right) $\n",
    "\n",
    "\n",
    "#### Implémentation\n",
    "1. Implémentez  la fonction  *`_one_hot()`*  dans SoftmaxClassifier. \n",
    "\n",
    "Utilisez la fonction _testOneHot_ pour vérifier votre implémentation de la fonction. Vous devriez avoir ces résultats:\n",
    "```\n",
    "Premier test\n",
    "[[1. 0. 0. 0. 0. 0.]\n",
    " [0. 1. 0. 0. 0. 0.]\n",
    " [0. 0. 1. 0. 0. 0.]\n",
    " [0. 0. 0. 1. 0. 0.]\n",
    " [0. 0. 0. 0. 1. 0.]\n",
    " [0. 0. 0. 0. 0. 1.]]\n",
    "\n",
    "Deuxième test\n",
    "[[0. 0. 0. 0. 0. 1.]\n",
    " [0. 0. 0. 0. 0. 1.]\n",
    " [0. 0. 0. 0. 0. 1.]\n",
    " [0. 0. 0. 0. 0. 1.]]\n",
    "\n",
    " Troisième test\n",
    "[[1. 0. 0. 0. 0. 0.]\n",
    " [1. 0. 0. 0. 0. 0.]\n",
    " [1. 0. 0. 0. 0. 0.]\n",
    " [1. 0. 0. 0. 0. 0.]]\n",
    " ```"
   ]
  },
  {
   "cell_type": "code",
   "execution_count": 36,
   "metadata": {
    "colab": {
     "base_uri": "https://localhost:8080/",
     "height": 336
    },
    "colab_type": "code",
    "executionInfo": {
     "elapsed": 607,
     "status": "ok",
     "timestamp": 1572273158769,
     "user": {
      "displayName": "Kim Thuyen Ton",
      "photoUrl": "https://lh3.googleusercontent.com/a-/AAuE7mBg1xy2-8526x-b1HLCbT16SZlMsjmtKfyoHRgghw=s64",
      "userId": "10674693358177584608"
     },
     "user_tz": 240
    },
    "id": "HEwBsNVsjvfs",
    "outputId": "aedf1752-21aa-49b8-e31b-8892f3f5e2e6"
   },
   "outputs": [
    {
     "name": "stdout",
     "output_type": "stream",
     "text": [
      "Premier test\n",
      "[[1. 0. 0. 0. 0. 0.]\n",
      " [0. 1. 0. 0. 0. 0.]\n",
      " [0. 0. 1. 0. 0. 0.]\n",
      " [0. 0. 0. 1. 0. 0.]\n",
      " [0. 0. 0. 0. 1. 0.]\n",
      " [0. 0. 0. 0. 0. 1.]]\n",
      "\n",
      "Deuxième test\n",
      "[[0. 0. 0. 0. 0. 1.]\n",
      " [0. 0. 0. 0. 0. 1.]\n",
      " [0. 0. 0. 0. 0. 1.]\n",
      " [0. 0. 0. 0. 0. 1.]]\n",
      "\n",
      "Troisième test\n",
      "[[1. 0. 0. 0. 0. 0.]\n",
      " [1. 0. 0. 0. 0. 0.]\n",
      " [1. 0. 0. 0. 0. 0.]\n",
      " [1. 0. 0. 0. 0. 0.]]\n"
     ]
    }
   ],
   "source": [
    "def testOneHot():\n",
    "    softmax = SoftmaxClassifier()\n",
    "    softmax.nb_classes = 6 # les classes possibles sont donc 0-5\n",
    "\n",
    "    y1= np.array([0,1,2,3,4,5])\n",
    "    y1.shape = (6,1)\n",
    "    print('Premier test')\n",
    "    print(softmax._one_hot(y1))\n",
    "\n",
    "    y2 = np.array([5,5,5,5])\n",
    "    y2.shape = (4,1)\n",
    "    print('\\nDeuxième test')\n",
    "    print(softmax._one_hot(y2))\n",
    "\n",
    "    y3 = np.array([0,0,0,0])\n",
    "    y3.shape = (4,1)\n",
    "    print('\\nTroisième test')\n",
    "    print(softmax._one_hot(y3))\n",
    "\n",
    "\n",
    "testOneHot()"
   ]
  },
  {
   "cell_type": "markdown",
   "metadata": {
    "colab_type": "text",
    "id": "vwxvqYj4XGzu"
   },
   "source": [
    "## 1.2 Matrice de poids (1 point)\n",
    "\n",
    "Soit $ X_{m * n} $ la matrice d'exemple et $ \\Theta _{n*K} $ la matrice de poids avec:\n",
    "\n",
    "* **m** le nombre d'exemples\n",
    "* **n** le nombre de features\n",
    "* **k** le nombre de classes\n",
    "\n",
    "Il est d'usage d'ajouter une colonne supplémentaire à X. Cette colonne est remplie de 1 et se trouve au début de la matrice. Elle représente un biais. Pour prendre en compte ce changement, il faut aussi rajouter une ligne à la matrice $\\Theta$.\n",
    "\n",
    "On obtient X_bias$_{m*(n+1)}$ et $ \\Theta _{(n+1)*K} $\n",
    "\n",
    "\n",
    "Intuitivement, à chaque classe K est associée une colonne de $\\theta$.\n",
    "\n",
    "On note $\\theta_k$ le vecteur de dimension n+1 la colonne de poids associée à la prédiction de la classe k.\n",
    "\n",
    "$\\Theta$ = [$\\theta_0$,$\\theta_1$... $\\theta_k$]\n",
    "\n",
    "Ainsi $ z = x * \\Theta $ donne un vecteur de dimension K qui correspond aux **logits** associés à x pour chacune des classes.\n",
    "\n",
    "#### Implémentation\n",
    "1. Instanciez X_bias dans les fonctions  *`fit()`* et `predict_proba()`.\n",
    "2. initialisez $\\Theta$ aléatoirement dans la fonction  *`fit()`*.\n",
    "3. Instanciez aussi le nombre de features et de classe de SoftmaxClassifier dans la fonction  *`fit()`*.\n",
    "\n",
    "**Notez que votre fonction fit n'est pas encore complète.**"
   ]
  },
  {
   "cell_type": "markdown",
   "metadata": {
    "colab_type": "text",
    "id": "6UTIxaGIXGzz"
   },
   "source": [
    "### 1.3 Softmax (1 point)\n",
    "\n",
    "On veut convertir le vecteur de logits **z** obtenu dans la partie précédente, en un **vecteur de probabilité**.\n",
    "\n",
    "Pour cela on définit la **fonction softmax**:\n",
    "\n",
    "$$ \\hat{p_x}^k = softmax(z)_k = \\frac{exp(z_k)}{\\sum_{\\substack{1<j<K}} exp(z_j)} $$\n",
    "\n",
    "Intuitivement, pour un logit de z, $z_k$, on prend l'exponentielle de cette valeur et on la divise par la somme des exponentielles de chaque logit du vecteur **z**. On obtient  $\\hat{p_x}^k$ la probabilité que l'exemple **x** appartienne à la classe **k**.\n",
    "\n",
    "On réitère l'opération pour chaque logit du vecteur **z**. \n",
    "\n",
    "On obtient ainsi un vecteur de probabilités $\\hat{p_x}$ pour un exemple **x**. \n",
    "\n",
    "La division permet de rendre la somme des termes du vecteur $\\hat{p_x}$ égale à 1 ce qui est indispensable dans le cadre des probabilités.\n",
    "\n",
    "#### Implémentation\n",
    "1. Implémentez  la fonction  *`_softmax()`*  dans SoftmaxClassifier. "
   ]
  },
  {
   "cell_type": "markdown",
   "metadata": {
    "colab_type": "text",
    "id": "g5_N31uPXGz2"
   },
   "source": [
    "### 1.4 Prédictions (1 point)\n",
    "\n",
    "Maintenant que vous avez implémentée la fonction **_softmax**, vous pouvez implémenter  les fonctions  **predict_proba** et **predict**  dans SoftmaxClassifier. \n",
    "\n",
    "#### Implémentation\n",
    "1. Implémenter la fonction *`predict_proba()`* de la classe SoftmaxClassifier. Cette fonction retourne les probabilités associées à chaque classe pour chacune des instances à prédire.\n",
    "\n",
    "2. Implémenter la fonction *`predict()`* de la classe SoftmaxClassifier. Cette fonction retourne la classe avec la plus grande probabilité pour chacunes des intances à prédire."
   ]
  },
  {
   "cell_type": "markdown",
   "metadata": {
    "colab_type": "text",
    "id": "cj5Ghd5jXGz6"
   },
   "source": [
    "### 1.5 Fonction de coût Log loss (2 points)\n",
    "\n",
    "Soit la fonction de coût log loss (ou cross entropy):\n",
    "\n",
    "$$ J( \\Theta) = \\frac{-1}{m}\\sum_{\\substack{1<i<m}} \\sum_{\\substack{1<k<K}} y_k^i log( \\hat{p_k}^i ) $$\n",
    "\n",
    "avec:\n",
    "* **K** le nombre de classes\n",
    "* **m** le nombre d'exemples dans les données\n",
    "* $ \\hat{p_k}^i  $  la probabilité que l'exemple i soit de la classe k\n",
    "* $y_k^i$ vaut 1 si la classe cible de l'exemple i est k, 0 sinon\n",
    "\n",
    "Le coût correspond donc à la moyenne multiplié par -1 des sommes des multiplications des probabilités pour chaque classe pour chaque élement. Autrement dit, plus le coût est petit, plus les prédictions correspondent bien aux étiquettes.\n",
    "\n",
    "\n",
    "**Détail d'implémentation:** La fonction n'est pas définie pour des valeurs de probabilité de 0 ou 1. Il faut donc s'assurer que étant donné $\\epsilon$, les probabilités sont comprises dans [$\\epsilon$, 1. - $\\epsilon$].\n",
    "#### Implémentation\n",
    "1. Implémentez  la fonction  *`_cost_function()`*  dans SoftmaxClassifier en prenant en utilisant la variable self.eps. Utilisez le format one-hot pour représenter $y_k^i$.\n",
    "2.  Utilisez *`_cost_function()`* pour calculer la variable *`loss`* dans la fonction `fit()`"
   ]
  },
  {
   "cell_type": "markdown",
   "metadata": {
    "colab_type": "text",
    "id": "vODCJbRaXGz-"
   },
   "source": [
    "### 1.6 Gradient de la fonction de coût (1 point)\n",
    "\n",
    "Le **gradient de J** par rapport à la classe k (par rapport à $\\theta_k$) est :\n",
    "\n",
    "\n",
    "$$ \\Delta_{\\theta_k}J( \\Theta) = \\frac{1}{m} \\sum_{\\substack{1<i<m}}( \\hat{p_k}^i - y_k^i)x^i  $$\n",
    "\n",
    "avec:\n",
    "* **K** le nombre de classes\n",
    "* **m** le nombre d'exemples dans les données\n",
    "* $ \\hat{p_k}^i  $  la probabilité que l'exemple i soit de la classe k\n",
    "* $y_k^i$ vaut 1 si la classe cible de l'exemple i est k, 0 sinon\n",
    "\n",
    "Sous **forme matricielle**, on peut écrire le **gradient de J par rapport à $\\Theta$**:\n",
    "$$ \\Delta_J( \\Theta) = \\frac{1}{m} X_{bias}^T *( \\hat{p} - y_{ohe}) $$\n",
    "\n",
    "avec:\n",
    "* $\\hat{p}$ la matrice de probabilité prédite pour chaque example et pour chaque classe\n",
    "* $y_{ohe}$ la version one-hot de y\n",
    "* $X_{bias}^T$  la matrice transposée de $X_{bias}$\n",
    "* **\\*** le produit matriciel\n",
    "\n",
    "#### Implémentation\n",
    "1. Implémentez  la fonction  *`_get_gradient()`*  dans SoftmaxClassifier en vous basant sur la forme matricielle du gradient."
   ]
  },
  {
   "cell_type": "markdown",
   "metadata": {
    "colab_type": "text",
    "id": "Y5EOpj9TXG0B"
   },
   "source": [
    "### 1.7 Mise à jour des poids (1 point)\n",
    "\n",
    "Quand le gradient a été calculé, il faut mettre à jour les poids avec ces gradients.\n",
    "\n",
    "$$ \\Theta  = \\Theta - \\gamma \\Delta J( \\Theta) $$\n",
    "\n",
    "\n",
    "avec:\n",
    "* $\\Theta$ la matrice de poids\n",
    "* $\\gamma$  le taux d'apprentissage\n",
    "* $\\Delta J( \\Theta)$ le gradient de $J( \\Theta)$ selon $\\Theta$\n",
    "\n",
    "#### Implémentation\n",
    "1. Mettez à jour la variable **self.theta_** dans la fonction `fit()`  dans SoftmaxClassifier."
   ]
  },
  {
   "cell_type": "markdown",
   "metadata": {
    "colab_type": "text",
    "id": "9QrP9uYPXG0I"
   },
   "source": [
    "### 1.8 Évaluation (1 point)\n",
    "\n",
    "Quand on veut évaluer la performance du modèle **après entrainement**, on utilise la fonction de coût. Autrement dit, on compare les prédictions avec les vrais valeurs et calcule un score.\n",
    "\n",
    "#### Implémentation\n",
    "1. Implémentez la fonction `score()` qui permet d'évaluer la qualité de la prédiction **après entrainement** dans SoftmaxClassifier. Elle utilise le log loss comme métrique."
   ]
  },
  {
   "cell_type": "markdown",
   "metadata": {
    "colab_type": "text",
    "id": "Ewh3I_jEXG0N"
   },
   "source": [
    "### 1.9 Early stopping (1 point)\n",
    "\n",
    "Un trop grand nombre d'**epoch** peut résulter en **overfitting**.\n",
    "Pour pallier à ce problème, on peut utiliser le mécanisme d'**early stopping**.\n",
    "Il s'agit d'arrêter l'entraînement si la différence de la fonction de coût entre deux **epochs consécutives** est inférieure à un **seuil**.\n",
    "\n",
    "\n",
    "\n",
    "\n",
    "#### Implémentation\n",
    "\n",
    "1. Ajouter le mécanisme d'**early stopping**  quand le booléen **self.early_stopping** est vrai dans la fonction `fit()`. Le seuil est donné par la variable **self.threshold**."
   ]
  },
  {
   "cell_type": "markdown",
   "metadata": {
    "colab_type": "text",
    "id": "JdNEVRveXG0Q"
   },
   "source": [
    "### 1.10 Test de la solution (2 points)\n",
    "\n",
    "Le code ci-dessous importe le dataset de classification multiclasse **iris** disponible sur sklearn. Les données sont divisées en deux parties, l'ensemble d'entraînement et l'ensemble de test, puis elles sont normalisées.\n",
    "\n",
    "Le classifier est entrainé sur l'ensemble d'entrainement et testé sur l'ensemble de test.\n",
    "\n",
    "Le but de cette partie est juste de vérifier votre implémentation **quand vous êtes sûrs que votre code fonctionne**."
   ]
  },
  {
   "cell_type": "code",
   "execution_count": 37,
   "metadata": {
    "colab": {},
    "colab_type": "code",
    "id": "1-2UipMRXG0R"
   },
   "outputs": [],
   "source": [
    "import numpy as np\n",
    "from sklearn.datasets import load_iris\n",
    "from sklearn.model_selection import train_test_split\n",
    "from sklearn.preprocessing import StandardScaler\n",
    "\n",
    "# load dataset\n",
    "data,target =load_iris().data,load_iris().target\n",
    "\n",
    "# split data in train/test sets\n",
    "X_train, X_test, y_train, y_test = train_test_split( data, target, test_size=0.33, random_state=42)\n",
    "\n",
    "# standardize columns using normal distribution\n",
    "# fit on X_train and not on X_test to avoid Data Leakage\n",
    "s = StandardScaler()\n",
    "X_train = s.fit_transform(X_train)\n",
    "X_test = s.transform(X_test)"
   ]
  },
  {
   "cell_type": "code",
   "execution_count": 38,
   "metadata": {
    "colab": {},
    "colab_type": "code",
    "id": "8qnflIdzXG0T"
   },
   "outputs": [],
   "source": [
    "cl = SoftmaxClassifier()\n",
    "\n",
    "# train on X_train and not on X_test to avoid overfitting\n",
    "train_p = cl.fit_predict(X_train,y_train)\n",
    "test_p = cl.predict(X_test)"
   ]
  },
  {
   "cell_type": "markdown",
   "metadata": {
    "colab_type": "text",
    "id": "hFt-r3nQXG0V"
   },
   "source": [
    "Si vous obtenez des valeurs relativement proches pour l'ensemble de test et d'entrainement, et qu'elles sont au moins supérieures à 0.8, votre modèle devrait être correct"
   ]
  },
  {
   "cell_type": "code",
   "execution_count": 39,
   "metadata": {
    "colab": {},
    "colab_type": "code",
    "id": "GmqcqadpXG0W"
   },
   "outputs": [
    {
     "name": "stdout",
     "output_type": "stream",
     "text": [
      "train : (0.9324929971988795, 0.9324929971988795, 0.9323671497584541, None)\n",
      "test : (0.8714285714285714, 0.8458333333333333, 0.8436036036036038, None)\n"
     ]
    }
   ],
   "source": [
    "from sklearn.metrics import precision_recall_fscore_support\n",
    "\n",
    "# display precision, recall and f1-score on train/test set\n",
    "print(\"train : \"+ str(precision_recall_fscore_support(y_train, train_p,average = \"macro\")))\n",
    "print(\"test : \"+ str(precision_recall_fscore_support(y_test, test_p,average = \"macro\")))"
   ]
  },
  {
   "cell_type": "markdown",
   "metadata": {
    "colab_type": "text",
    "id": "r3FmllqgXG0d"
   },
   "source": [
    "# 2. Data preprocessing (6 points)\n",
    "\n",
    "##  Kaggle \n",
    "Kaggle est un site dédié au machine learning. On y retrouve un grand nombre de dataset.\n",
    "Des compétitions sont organisées par des organisations. Ces dernières fournissent un dataset et un objectif. Les \"kagglers\" qui participent à ces compétitions soumettent leurs résultats en ligne. Il y a souvent des prix ou des emplois pour ceux qui obtiennent les meilleurs résultats.\n",
    "\n",
    "Il s'agit d'un bon moyen pour développer ses compétences en machine learning sur des vrais datasets.\n",
    "\n",
    "Vous devez créer un compte et formez une équipe sur Kaggle: https://www.kaggle.com/. La compétition pour le TP se trouve à l'adresse suivante: https://www.kaggle.com/c/tp3-inf8215-a19.\n",
    "\n",
    "\n",
    "## Income dataset\n",
    "Le dataset que nous utiliserons est le \"Income dataset\" disponible sur le site de la compétition. C'est une version modifiée du dataset \"Adult\" de UCI qui se trouve à cette adresse: https://archive.ics.uci.edu/ml/datasets/Adult.\n",
    "\n",
    "Il s'agit d'un problème de **classification binaire** du salaire de la personne. Le but est de prédire dans quel catégorie ils appartiennent:\n",
    "* $\\lt=50K$\n",
    "* $\\gt50K$\n",
    "\n",
    "Pour plus d'informations sur les données, lisez la description sur kaggle.\n",
    "\n",
    "## Déroulement d'un projet de machine learning\n",
    "\n",
    "Le but de la suite de ce TP est de vous faire étudier une version simplifiée d'un projet complet de machine learning:\n",
    "\n",
    "1. Nettoyage des données, traitement des valeurs manquantes\n",
    "2. Mise en forme des données pour pouvoir les utiliser dans les algorithmes de machine learning\n",
    "3. Feature engineering: transformation ou combinaison de features entre elles\n",
    "4. Comparaison des performances des différents choix effectués lors du traîtement des données\n",
    "5. Comparaison des performances de différents modèles (dont celui implémenté en première partie)\n",
    "6. Optimisation des hyper-paramètres\n",
    "\n",
    "## Scikit-learn\n",
    "http://scikit-learn.org/stable/\n",
    "\n",
    "Il s'agit d'une bibliothèque de machine learning et data mining, elle propose des outils pour l'analyse et le traîtement des données,  des algorithmes classiques de machine learning comme les réseaux de neuronnes, la régression logistique, les SVM ou autre, enfin des outils permettant de comparer les modèles entre eux comme la cross validation.\n",
    "\n",
    "## Pandas\n",
    "\n",
    "Une bibliothèque permettant de stocker des données et de les manipuler facilement\n",
    "\n",
    "Les deux éléments de base de pandas sont le dataframe et la serie.\n",
    "\n",
    "https://pandas.pydata.org/pandas-docs/version/0.23/generated/pandas.DataFrame.html\n",
    "\n",
    "## Data processing tutorial\n",
    "\n",
    "**Avant de continuer le TP**, familiarisez-vous avec le **pré-traitement des données**, **pandas** et **scikit-learn**, un tutoriel est disponible dans le fichier: **data_processing_tutorial.ipynb**"
   ]
  },
  {
   "cell_type": "markdown",
   "metadata": {
    "colab_type": "text",
    "id": "uJxSGCnOXG0e"
   },
   "source": [
    "## Dataset\n",
    "\n",
    "#### Chargement de l'ensemble d'entraînement et de l'ensemble de test"
   ]
  },
  {
   "cell_type": "code",
   "execution_count": 40,
   "metadata": {
    "colab": {},
    "colab_type": "code",
    "id": "KrmSiTseXG0f"
   },
   "outputs": [],
   "source": [
    "import pandas as pd\n",
    "\n",
    "PATH = \"data/\" # changer le path avec votre path\n",
    "X_train = pd.read_csv(PATH + \"train.csv\")\n",
    "X_test = pd.read_csv(PATH + \"test.csv\")"
   ]
  },
  {
   "cell_type": "markdown",
   "metadata": {
    "colab_type": "text",
    "id": "996_M0-sXG0w"
   },
   "source": [
    "#### 5 premiers exemples de l'ensemble d'entraînement"
   ]
  },
  {
   "cell_type": "code",
   "execution_count": 41,
   "metadata": {
    "colab": {},
    "colab_type": "code",
    "id": "s2U3Xs73-rDr"
   },
   "outputs": [
    {
     "data": {
      "text/html": [
       "<div>\n",
       "<style scoped>\n",
       "    .dataframe tbody tr th:only-of-type {\n",
       "        vertical-align: middle;\n",
       "    }\n",
       "\n",
       "    .dataframe tbody tr th {\n",
       "        vertical-align: top;\n",
       "    }\n",
       "\n",
       "    .dataframe thead th {\n",
       "        text-align: right;\n",
       "    }\n",
       "</style>\n",
       "<table border=\"1\" class=\"dataframe\">\n",
       "  <thead>\n",
       "    <tr style=\"text-align: right;\">\n",
       "      <th></th>\n",
       "      <th>index</th>\n",
       "      <th>Age</th>\n",
       "      <th>Workclass</th>\n",
       "      <th>Final weight</th>\n",
       "      <th>Education</th>\n",
       "      <th>Marital-status</th>\n",
       "      <th>Occupation</th>\n",
       "      <th>Relationship</th>\n",
       "      <th>Sex</th>\n",
       "      <th>Capital-gain</th>\n",
       "      <th>Capital-loss</th>\n",
       "      <th>Hours per week</th>\n",
       "      <th>Native country</th>\n",
       "      <th>Income</th>\n",
       "    </tr>\n",
       "  </thead>\n",
       "  <tbody>\n",
       "    <tr>\n",
       "      <th>0</th>\n",
       "      <td>36721</td>\n",
       "      <td>36</td>\n",
       "      <td>Private</td>\n",
       "      <td>31023</td>\n",
       "      <td>Masters</td>\n",
       "      <td>Married-civ-spouse</td>\n",
       "      <td>Exec-managerial</td>\n",
       "      <td>Husband</td>\n",
       "      <td>Male</td>\n",
       "      <td>0</td>\n",
       "      <td>0</td>\n",
       "      <td>50</td>\n",
       "      <td>United-States</td>\n",
       "      <td>&gt;50K.</td>\n",
       "    </tr>\n",
       "    <tr>\n",
       "      <th>1</th>\n",
       "      <td>2638</td>\n",
       "      <td>52</td>\n",
       "      <td>?</td>\n",
       "      <td>159755</td>\n",
       "      <td>Assoc-voc</td>\n",
       "      <td>Married-civ-spouse</td>\n",
       "      <td>?</td>\n",
       "      <td>Husband</td>\n",
       "      <td>Male</td>\n",
       "      <td>0</td>\n",
       "      <td>0</td>\n",
       "      <td>50</td>\n",
       "      <td>United-States</td>\n",
       "      <td>&gt;50K</td>\n",
       "    </tr>\n",
       "    <tr>\n",
       "      <th>2</th>\n",
       "      <td>36214</td>\n",
       "      <td>36</td>\n",
       "      <td>Private</td>\n",
       "      <td>359001</td>\n",
       "      <td>Assoc-voc</td>\n",
       "      <td>Divorced</td>\n",
       "      <td>Craft-repair</td>\n",
       "      <td>Not-in-family</td>\n",
       "      <td>Male</td>\n",
       "      <td>0</td>\n",
       "      <td>0</td>\n",
       "      <td>40</td>\n",
       "      <td>United-States</td>\n",
       "      <td>&lt;=50K.</td>\n",
       "    </tr>\n",
       "    <tr>\n",
       "      <th>3</th>\n",
       "      <td>27010</td>\n",
       "      <td>42</td>\n",
       "      <td>Self-emp-inc</td>\n",
       "      <td>188615</td>\n",
       "      <td>Bachelors</td>\n",
       "      <td>Married-civ-spouse</td>\n",
       "      <td>Sales</td>\n",
       "      <td>Husband</td>\n",
       "      <td>Male</td>\n",
       "      <td>0</td>\n",
       "      <td>0</td>\n",
       "      <td>60</td>\n",
       "      <td>United-States</td>\n",
       "      <td>&gt;50K</td>\n",
       "    </tr>\n",
       "    <tr>\n",
       "      <th>4</th>\n",
       "      <td>27506</td>\n",
       "      <td>44</td>\n",
       "      <td>Private</td>\n",
       "      <td>43711</td>\n",
       "      <td>Bachelors</td>\n",
       "      <td>Never-married</td>\n",
       "      <td>Other-service</td>\n",
       "      <td>Not-in-family</td>\n",
       "      <td>Male</td>\n",
       "      <td>0</td>\n",
       "      <td>0</td>\n",
       "      <td>48</td>\n",
       "      <td>United-States</td>\n",
       "      <td>&lt;=50K</td>\n",
       "    </tr>\n",
       "  </tbody>\n",
       "</table>\n",
       "</div>"
      ],
      "text/plain": [
       "   index  Age      Workclass  Final weight   Education       Marital-status  \\\n",
       "0  36721   36        Private         31023     Masters   Married-civ-spouse   \n",
       "1   2638   52              ?        159755   Assoc-voc   Married-civ-spouse   \n",
       "2  36214   36        Private        359001   Assoc-voc             Divorced   \n",
       "3  27010   42   Self-emp-inc        188615   Bachelors   Married-civ-spouse   \n",
       "4  27506   44        Private         43711   Bachelors        Never-married   \n",
       "\n",
       "         Occupation    Relationship    Sex  Capital-gain  Capital-loss  \\\n",
       "0   Exec-managerial         Husband   Male             0             0   \n",
       "1                 ?         Husband   Male             0             0   \n",
       "2      Craft-repair   Not-in-family   Male             0             0   \n",
       "3             Sales         Husband   Male             0             0   \n",
       "4     Other-service   Not-in-family   Male             0             0   \n",
       "\n",
       "   Hours per week  Native country   Income  \n",
       "0              50   United-States    >50K.  \n",
       "1              50   United-States     >50K  \n",
       "2              40   United-States   <=50K.  \n",
       "3              60   United-States     >50K  \n",
       "4              48   United-States    <=50K  "
      ]
     },
     "execution_count": 41,
     "metadata": {},
     "output_type": "execute_result"
    }
   ],
   "source": [
    "X_train.head()"
   ]
  },
  {
   "cell_type": "markdown",
   "metadata": {
    "colab_type": "text",
    "id": "kSM01gVZXG0z"
   },
   "source": [
    "#### 5 premiers exemples de l'ensemble de test"
   ]
  },
  {
   "cell_type": "code",
   "execution_count": 42,
   "metadata": {
    "colab": {},
    "colab_type": "code",
    "id": "UMVNvQ9yXG00"
   },
   "outputs": [
    {
     "data": {
      "text/html": [
       "<div>\n",
       "<style scoped>\n",
       "    .dataframe tbody tr th:only-of-type {\n",
       "        vertical-align: middle;\n",
       "    }\n",
       "\n",
       "    .dataframe tbody tr th {\n",
       "        vertical-align: top;\n",
       "    }\n",
       "\n",
       "    .dataframe thead th {\n",
       "        text-align: right;\n",
       "    }\n",
       "</style>\n",
       "<table border=\"1\" class=\"dataframe\">\n",
       "  <thead>\n",
       "    <tr style=\"text-align: right;\">\n",
       "      <th></th>\n",
       "      <th>index</th>\n",
       "      <th>Age</th>\n",
       "      <th>Workclass</th>\n",
       "      <th>Final weight</th>\n",
       "      <th>Education</th>\n",
       "      <th>Marital-status</th>\n",
       "      <th>Occupation</th>\n",
       "      <th>Relationship</th>\n",
       "      <th>Sex</th>\n",
       "      <th>Capital-gain</th>\n",
       "      <th>Capital-loss</th>\n",
       "      <th>Hours per week</th>\n",
       "      <th>Native country</th>\n",
       "    </tr>\n",
       "  </thead>\n",
       "  <tbody>\n",
       "    <tr>\n",
       "      <th>0</th>\n",
       "      <td>7762</td>\n",
       "      <td>18</td>\n",
       "      <td>Private</td>\n",
       "      <td>423024.0</td>\n",
       "      <td>HS-grad</td>\n",
       "      <td>Never-married</td>\n",
       "      <td>Other-service</td>\n",
       "      <td>Not-in-family</td>\n",
       "      <td>Male</td>\n",
       "      <td>0.0</td>\n",
       "      <td>0.0</td>\n",
       "      <td>20.0</td>\n",
       "      <td>United-States</td>\n",
       "    </tr>\n",
       "    <tr>\n",
       "      <th>1</th>\n",
       "      <td>23881</td>\n",
       "      <td>17</td>\n",
       "      <td>Private</td>\n",
       "      <td>178953.0</td>\n",
       "      <td>12th</td>\n",
       "      <td>Never-married</td>\n",
       "      <td>Sales</td>\n",
       "      <td>Own-child</td>\n",
       "      <td>Female</td>\n",
       "      <td>0.0</td>\n",
       "      <td>0.0</td>\n",
       "      <td>20.0</td>\n",
       "      <td>United-States</td>\n",
       "    </tr>\n",
       "    <tr>\n",
       "      <th>2</th>\n",
       "      <td>30507</td>\n",
       "      <td>25</td>\n",
       "      <td>Local-gov</td>\n",
       "      <td>348986.0</td>\n",
       "      <td>HS-grad</td>\n",
       "      <td>Never-married</td>\n",
       "      <td>Handlers-cleaners</td>\n",
       "      <td>Other-relative</td>\n",
       "      <td>Male</td>\n",
       "      <td>0.0</td>\n",
       "      <td>0.0</td>\n",
       "      <td>40.0</td>\n",
       "      <td>United-States</td>\n",
       "    </tr>\n",
       "    <tr>\n",
       "      <th>3</th>\n",
       "      <td>28911</td>\n",
       "      <td>20</td>\n",
       "      <td>Private</td>\n",
       "      <td>218215.0</td>\n",
       "      <td>Some-college</td>\n",
       "      <td>Never-married</td>\n",
       "      <td>Sales</td>\n",
       "      <td>Own-child</td>\n",
       "      <td>Female</td>\n",
       "      <td>0.0</td>\n",
       "      <td>0.0</td>\n",
       "      <td>30.0</td>\n",
       "      <td>United-States</td>\n",
       "    </tr>\n",
       "    <tr>\n",
       "      <th>4</th>\n",
       "      <td>19484</td>\n",
       "      <td>47</td>\n",
       "      <td>Private</td>\n",
       "      <td>244025.0</td>\n",
       "      <td>HS-grad</td>\n",
       "      <td>Never-married</td>\n",
       "      <td>Machine-op-inspct</td>\n",
       "      <td>Unmarried</td>\n",
       "      <td>Male</td>\n",
       "      <td>0.0</td>\n",
       "      <td>0.0</td>\n",
       "      <td>56.0</td>\n",
       "      <td>Puerto-Rico</td>\n",
       "    </tr>\n",
       "  </tbody>\n",
       "</table>\n",
       "</div>"
      ],
      "text/plain": [
       "   index  Age   Workclass  Final weight      Education  Marital-status  \\\n",
       "0   7762   18     Private      423024.0        HS-grad   Never-married   \n",
       "1  23881   17     Private      178953.0           12th   Never-married   \n",
       "2  30507   25   Local-gov      348986.0        HS-grad   Never-married   \n",
       "3  28911   20     Private      218215.0   Some-college   Never-married   \n",
       "4  19484   47     Private      244025.0        HS-grad   Never-married   \n",
       "\n",
       "           Occupation     Relationship      Sex  Capital-gain  Capital-loss  \\\n",
       "0       Other-service    Not-in-family     Male           0.0           0.0   \n",
       "1               Sales        Own-child   Female           0.0           0.0   \n",
       "2   Handlers-cleaners   Other-relative     Male           0.0           0.0   \n",
       "3               Sales        Own-child   Female           0.0           0.0   \n",
       "4   Machine-op-inspct        Unmarried     Male           0.0           0.0   \n",
       "\n",
       "   Hours per week  Native country  \n",
       "0            20.0   United-States  \n",
       "1            20.0   United-States  \n",
       "2            40.0   United-States  \n",
       "3            30.0   United-States  \n",
       "4            56.0     Puerto-Rico  "
      ]
     },
     "execution_count": 42,
     "metadata": {},
     "output_type": "execute_result"
    }
   ],
   "source": [
    "X_test.head()"
   ]
  },
  {
   "cell_type": "markdown",
   "metadata": {
    "colab_type": "text",
    "id": "vli9bS98XG04"
   },
   "source": [
    "#### 5 premiers exemples de l'attribut à prédire"
   ]
  },
  {
   "cell_type": "code",
   "execution_count": 43,
   "metadata": {
    "colab": {},
    "colab_type": "code",
    "id": "HlgNDI3BXG05"
   },
   "outputs": [
    {
     "data": {
      "text/plain": [
       "0      >50K.\n",
       "1       >50K\n",
       "2     <=50K.\n",
       "3       >50K\n",
       "4      <=50K\n",
       "Name: Income, dtype: object"
      ]
     },
     "execution_count": 43,
     "metadata": {},
     "output_type": "execute_result"
    }
   ],
   "source": [
    "y_train = X_train['Income']\n",
    "y_train.head()"
   ]
  },
  {
   "cell_type": "markdown",
   "metadata": {
    "colab_type": "text",
    "id": "qkm_PxPOXG08"
   },
   "source": [
    "## Travail demandé\n",
    "\n",
    "En vous appuyant sur le tutoriel fourni, vous devez écrire un pipeline complet de transformation pour chacune des colonnes du dataset.\n",
    "\n",
    "Vous êtes **libres** de vos choix, mais vous devez les **justifer** colonne par colonne.\n",
    "Par exemple, vous pouvez choisir de combiner des colonnes entre elles, de séparer une colonne en plusieurs ou encore d'éliminer complètement une colonne si vous le justifiez correctement.\n"
   ]
  },
  {
   "cell_type": "markdown",
   "metadata": {
    "colab_type": "text",
    "id": "HOX3V-pbBNYm"
   },
   "source": [
    "####  2.1 Preprocessing (3 points)\n",
    "\n",
    "Vous devez justifier toutes les transformations que vous faites sur les données pour faciliter l'utilisation des données lors de l'entraînement du modèle. Vous pouvez justifier avec de la logique ou des preuves numériques. **Attention de ne pas tomber dans le piège du overfitting**.\n",
    "\n",
    "**ATTENTION** Vous devez avoir un meilleur score que le baseline pour le classement privé pour avoir votre point au complet pour la partie 2.1. Ce score est une bonne mesure pour savoir si votre traitement est correct.\n",
    "\n",
    "1. Justifier tous les choix de traitements que vous faites ici."
   ]
  },
  {
   "cell_type": "markdown",
   "metadata": {
    "colab_type": "text",
    "id": "bjKBBvUMLpFD"
   },
   "source": [
    "\n",
    "Colonne(s) | Traitement | Justification |\n",
    " :---: | :---: | :---: |\n",
    " Index | Drop | Nombre non-indicatif |\n",
    " Age | Normalisation | Catégorie numérique |\n",
    " Workclass | One-hot-encoding | Catégorique textuelle |\n",
    " Final weight | Normalisation | Catégorique numérique |\n",
    " Education | One-hot-encoding | Catégorique textuelle |\n",
    " Marital-status | One-hot-encoding | Catégorique textuelle |\n",
    " Occupation | One-hot-encoding | Catégorique textuelle |\n",
    " Relationship | One-hot-encoding | Catégorique textuelle |\n",
    " Sex | Binarisation | Deux catégories |\n",
    " Capital-loss | Drop | Sparsity > 90% |\n",
    " Capital-gain | Drop | Sparsity > 90% |\n",
    " Hours per week | Normalisation | Catégorique numérique |\n",
    " Native country | One-hot-encoding | Catégorique textuelle |\n",
    " Income | Binarisation | Deux catégories |"
   ]
  },
  {
   "cell_type": "markdown",
   "metadata": {},
   "source": [
    "<h3>Drop</h3>"
   ]
  },
  {
   "cell_type": "code",
   "execution_count": 44,
   "metadata": {},
   "outputs": [
    {
     "name": "stdout",
     "output_type": "stream",
     "text": [
      "Sparsity of Capital-loss is :  0.952785502551722\n",
      "Sparsity of Capital-gain is :  0.9164196436757022\n"
     ]
    }
   ],
   "source": [
    "print(\"Sparsity of Capital-loss is : \", 1 - X_train[X_train['Capital-loss'] > 0].count()[0] / 32723)\n",
    "print(\"Sparsity of Capital-gain is : \", 1 - X_train[X_train['Capital-gain'] > 0].count()[0] / 32723)"
   ]
  },
  {
   "cell_type": "markdown",
   "metadata": {},
   "source": [
    "Nous avons choisit tout d'abord d'enlever les deux colonnes concernant le capital car leurs sparcity est supérieur à 90%. La colonne 'Index' ne fournit pas d'information et 'Income' est enregistré dans y_train"
   ]
  },
  {
   "cell_type": "code",
   "execution_count": 45,
   "metadata": {},
   "outputs": [],
   "source": [
    "X_train = X_train.drop(['index','Capital-loss','Capital-gain','Income'], axis=1)\n",
    "X_test = X_test.drop(['index','Capital-loss','Capital-gain'], axis=1)"
   ]
  },
  {
   "cell_type": "markdown",
   "metadata": {},
   "source": [
    "<h3>Normalisation</h3>"
   ]
  },
  {
   "cell_type": "markdown",
   "metadata": {},
   "source": [
    "Nous allons commencer par normaliser toutes les variable numériques [Age, Final weight, Hours per week]"
   ]
  },
  {
   "cell_type": "code",
   "execution_count": 46,
   "metadata": {},
   "outputs": [
    {
     "name": "stderr",
     "output_type": "stream",
     "text": [
      "C:\\Users\\gabig\\Anaconda3\\lib\\site-packages\\sklearn\\utils\\validation.py:595: DataConversionWarning: Data with input dtype int64 was converted to float64 by StandardScaler.\n",
      "  warnings.warn(msg, DataConversionWarning)\n",
      "C:\\Users\\gabig\\Anaconda3\\lib\\site-packages\\sklearn\\utils\\validation.py:595: DataConversionWarning: Data with input dtype int64 was converted to float64 by StandardScaler.\n",
      "  warnings.warn(msg, DataConversionWarning)\n",
      "C:\\Users\\gabig\\Anaconda3\\lib\\site-packages\\sklearn\\utils\\validation.py:595: DataConversionWarning: Data with input dtype int64 was converted to float64 by StandardScaler.\n",
      "  warnings.warn(msg, DataConversionWarning)\n",
      "C:\\Users\\gabig\\Anaconda3\\lib\\site-packages\\sklearn\\utils\\validation.py:595: DataConversionWarning: Data with input dtype int64 was converted to float64 by StandardScaler.\n",
      "  warnings.warn(msg, DataConversionWarning)\n",
      "C:\\Users\\gabig\\Anaconda3\\lib\\site-packages\\sklearn\\utils\\validation.py:595: DataConversionWarning: Data with input dtype int64 was converted to float64 by StandardScaler.\n",
      "  warnings.warn(msg, DataConversionWarning)\n",
      "C:\\Users\\gabig\\Anaconda3\\lib\\site-packages\\sklearn\\utils\\validation.py:595: DataConversionWarning: Data with input dtype int64 was converted to float64 by StandardScaler.\n",
      "  warnings.warn(msg, DataConversionWarning)\n",
      "C:\\Users\\gabig\\Anaconda3\\lib\\site-packages\\sklearn\\utils\\validation.py:595: DataConversionWarning: Data with input dtype int64 was converted to float64 by StandardScaler.\n",
      "  warnings.warn(msg, DataConversionWarning)\n"
     ]
    }
   ],
   "source": [
    "from sklearn.preprocessing import StandardScaler\n",
    "\n",
    "# Scalers initialisation\n",
    "age_scaler = StandardScaler()\n",
    "weight_scaler = StandardScaler()\n",
    "hours_scaler = StandardScaler()\n",
    "\n",
    "#Train set\n",
    "X_train[\"Age\"] = age_scaler.fit_transform(X_train[\"Age\"].values.reshape(-1,1))\n",
    "X_train[\"Final weight\"] = weight_scaler.fit_transform(X_train[\"Final weight\"].values.reshape(-1,1))\n",
    "X_train[\"Hours per week\"] = hours_scaler.fit_transform(X_train[\"Hours per week\"].values.reshape(-1,1))\n",
    "\n",
    "#Test set\n",
    "X_test[\"Age\"] = age_scaler.transform(X_test[\"Age\"].values.reshape(-1,1))\n",
    "X_test[\"Final weight\"] = weight_scaler.transform(X_test[\"Final weight\"].values.reshape(-1,1))\n",
    "X_test[\"Hours per week\"] = hours_scaler.transform(X_test[\"Hours per week\"].values.reshape(-1,1))"
   ]
  },
  {
   "cell_type": "code",
   "execution_count": 47,
   "metadata": {},
   "outputs": [
    {
     "data": {
      "text/html": [
       "<div>\n",
       "<style scoped>\n",
       "    .dataframe tbody tr th:only-of-type {\n",
       "        vertical-align: middle;\n",
       "    }\n",
       "\n",
       "    .dataframe tbody tr th {\n",
       "        vertical-align: top;\n",
       "    }\n",
       "\n",
       "    .dataframe thead th {\n",
       "        text-align: right;\n",
       "    }\n",
       "</style>\n",
       "<table border=\"1\" class=\"dataframe\">\n",
       "  <thead>\n",
       "    <tr style=\"text-align: right;\">\n",
       "      <th></th>\n",
       "      <th>Age</th>\n",
       "      <th>Workclass</th>\n",
       "      <th>Final weight</th>\n",
       "      <th>Education</th>\n",
       "      <th>Marital-status</th>\n",
       "      <th>Occupation</th>\n",
       "      <th>Relationship</th>\n",
       "      <th>Sex</th>\n",
       "      <th>Hours per week</th>\n",
       "      <th>Native country</th>\n",
       "    </tr>\n",
       "  </thead>\n",
       "  <tbody>\n",
       "    <tr>\n",
       "      <th>0</th>\n",
       "      <td>-0.190154</td>\n",
       "      <td>Private</td>\n",
       "      <td>-1.503257</td>\n",
       "      <td>Masters</td>\n",
       "      <td>Married-civ-spouse</td>\n",
       "      <td>Exec-managerial</td>\n",
       "      <td>Husband</td>\n",
       "      <td>Male</td>\n",
       "      <td>0.774580</td>\n",
       "      <td>United-States</td>\n",
       "    </tr>\n",
       "    <tr>\n",
       "      <th>1</th>\n",
       "      <td>0.974165</td>\n",
       "      <td>?</td>\n",
       "      <td>-0.285780</td>\n",
       "      <td>Assoc-voc</td>\n",
       "      <td>Married-civ-spouse</td>\n",
       "      <td>?</td>\n",
       "      <td>Husband</td>\n",
       "      <td>Male</td>\n",
       "      <td>0.774580</td>\n",
       "      <td>United-States</td>\n",
       "    </tr>\n",
       "    <tr>\n",
       "      <th>2</th>\n",
       "      <td>-0.190154</td>\n",
       "      <td>Private</td>\n",
       "      <td>1.598580</td>\n",
       "      <td>Assoc-voc</td>\n",
       "      <td>Divorced</td>\n",
       "      <td>Craft-repair</td>\n",
       "      <td>Not-in-family</td>\n",
       "      <td>Male</td>\n",
       "      <td>-0.030764</td>\n",
       "      <td>United-States</td>\n",
       "    </tr>\n",
       "    <tr>\n",
       "      <th>3</th>\n",
       "      <td>0.246465</td>\n",
       "      <td>Self-emp-inc</td>\n",
       "      <td>-0.012838</td>\n",
       "      <td>Bachelors</td>\n",
       "      <td>Married-civ-spouse</td>\n",
       "      <td>Sales</td>\n",
       "      <td>Husband</td>\n",
       "      <td>Male</td>\n",
       "      <td>1.579923</td>\n",
       "      <td>United-States</td>\n",
       "    </tr>\n",
       "    <tr>\n",
       "      <th>4</th>\n",
       "      <td>0.392005</td>\n",
       "      <td>Private</td>\n",
       "      <td>-1.383261</td>\n",
       "      <td>Bachelors</td>\n",
       "      <td>Never-married</td>\n",
       "      <td>Other-service</td>\n",
       "      <td>Not-in-family</td>\n",
       "      <td>Male</td>\n",
       "      <td>0.613511</td>\n",
       "      <td>United-States</td>\n",
       "    </tr>\n",
       "  </tbody>\n",
       "</table>\n",
       "</div>"
      ],
      "text/plain": [
       "        Age      Workclass  Final weight   Education       Marital-status  \\\n",
       "0 -0.190154        Private     -1.503257     Masters   Married-civ-spouse   \n",
       "1  0.974165              ?     -0.285780   Assoc-voc   Married-civ-spouse   \n",
       "2 -0.190154        Private      1.598580   Assoc-voc             Divorced   \n",
       "3  0.246465   Self-emp-inc     -0.012838   Bachelors   Married-civ-spouse   \n",
       "4  0.392005        Private     -1.383261   Bachelors        Never-married   \n",
       "\n",
       "         Occupation    Relationship    Sex  Hours per week  Native country  \n",
       "0   Exec-managerial         Husband   Male        0.774580   United-States  \n",
       "1                 ?         Husband   Male        0.774580   United-States  \n",
       "2      Craft-repair   Not-in-family   Male       -0.030764   United-States  \n",
       "3             Sales         Husband   Male        1.579923   United-States  \n",
       "4     Other-service   Not-in-family   Male        0.613511   United-States  "
      ]
     },
     "execution_count": 47,
     "metadata": {},
     "output_type": "execute_result"
    }
   ],
   "source": [
    "X_train.head()"
   ]
  },
  {
   "cell_type": "markdown",
   "metadata": {},
   "source": [
    "<h3>One-hot-encoding</h3>"
   ]
  },
  {
   "cell_type": "markdown",
   "metadata": {},
   "source": [
    "<h4>Workclass</h4>"
   ]
  },
  {
   "cell_type": "code",
   "execution_count": 48,
   "metadata": {},
   "outputs": [
    {
     "data": {
      "text/html": [
       "<div>\n",
       "<style scoped>\n",
       "    .dataframe tbody tr th:only-of-type {\n",
       "        vertical-align: middle;\n",
       "    }\n",
       "\n",
       "    .dataframe tbody tr th {\n",
       "        vertical-align: top;\n",
       "    }\n",
       "\n",
       "    .dataframe thead th {\n",
       "        text-align: right;\n",
       "    }\n",
       "</style>\n",
       "<table border=\"1\" class=\"dataframe\">\n",
       "  <thead>\n",
       "    <tr style=\"text-align: right;\">\n",
       "      <th></th>\n",
       "      <th>0</th>\n",
       "      <th>1</th>\n",
       "      <th>2</th>\n",
       "      <th>3</th>\n",
       "      <th>4</th>\n",
       "      <th>5</th>\n",
       "      <th>6</th>\n",
       "      <th>7</th>\n",
       "      <th>8</th>\n",
       "    </tr>\n",
       "  </thead>\n",
       "  <tbody>\n",
       "    <tr>\n",
       "      <th>0</th>\n",
       "      <td>Private</td>\n",
       "      <td>?</td>\n",
       "      <td>Self-emp-inc</td>\n",
       "      <td>Local-gov</td>\n",
       "      <td>State-gov</td>\n",
       "      <td>Self-emp-not-inc</td>\n",
       "      <td>Federal-gov</td>\n",
       "      <td>Without-pay</td>\n",
       "      <td>Never-worked</td>\n",
       "    </tr>\n",
       "  </tbody>\n",
       "</table>\n",
       "</div>"
      ],
      "text/plain": [
       "          0   1              2           3           4                  5  \\\n",
       "0   Private   ?   Self-emp-inc   Local-gov   State-gov   Self-emp-not-inc   \n",
       "\n",
       "              6             7              8  \n",
       "0   Federal-gov   Without-pay   Never-worked  "
      ]
     },
     "execution_count": 48,
     "metadata": {},
     "output_type": "execute_result"
    }
   ],
   "source": [
    "wc_list = X_train[\"Workclass\"].unique()\n",
    "pd.DataFrame([wc_list])"
   ]
  },
  {
   "cell_type": "code",
   "execution_count": 49,
   "metadata": {},
   "outputs": [],
   "source": [
    "def parse_workclass(text):\n",
    "    if \" ?\" in text or text not in wc_list:\n",
    "        return \"Unknown\"\n",
    "    if \"Self-emp\" in text:\n",
    "        return \"Self-emp\"\n",
    "    elif \"gov\" in text:\n",
    "        return \"Public\"\n",
    "    return text"
   ]
  },
  {
   "cell_type": "markdown",
   "metadata": {},
   "source": [
    "<h4>Education</h4>"
   ]
  },
  {
   "cell_type": "code",
   "execution_count": 50,
   "metadata": {},
   "outputs": [
    {
     "data": {
      "text/html": [
       "<div>\n",
       "<style scoped>\n",
       "    .dataframe tbody tr th:only-of-type {\n",
       "        vertical-align: middle;\n",
       "    }\n",
       "\n",
       "    .dataframe tbody tr th {\n",
       "        vertical-align: top;\n",
       "    }\n",
       "\n",
       "    .dataframe thead th {\n",
       "        text-align: right;\n",
       "    }\n",
       "</style>\n",
       "<table border=\"1\" class=\"dataframe\">\n",
       "  <thead>\n",
       "    <tr style=\"text-align: right;\">\n",
       "      <th></th>\n",
       "      <th>0</th>\n",
       "      <th>1</th>\n",
       "      <th>2</th>\n",
       "      <th>3</th>\n",
       "      <th>4</th>\n",
       "      <th>5</th>\n",
       "      <th>6</th>\n",
       "      <th>7</th>\n",
       "      <th>8</th>\n",
       "      <th>9</th>\n",
       "      <th>10</th>\n",
       "      <th>11</th>\n",
       "      <th>12</th>\n",
       "      <th>13</th>\n",
       "      <th>14</th>\n",
       "      <th>15</th>\n",
       "    </tr>\n",
       "  </thead>\n",
       "  <tbody>\n",
       "    <tr>\n",
       "      <th>0</th>\n",
       "      <td>Masters</td>\n",
       "      <td>Assoc-voc</td>\n",
       "      <td>Bachelors</td>\n",
       "      <td>HS-grad</td>\n",
       "      <td>Some-college</td>\n",
       "      <td>11th</td>\n",
       "      <td>1st-4th</td>\n",
       "      <td>10th</td>\n",
       "      <td>Assoc-acdm</td>\n",
       "      <td>7th-8th</td>\n",
       "      <td>Prof-school</td>\n",
       "      <td>12th</td>\n",
       "      <td>Doctorate</td>\n",
       "      <td>9th</td>\n",
       "      <td>5th-6th</td>\n",
       "      <td>Preschool</td>\n",
       "    </tr>\n",
       "  </tbody>\n",
       "</table>\n",
       "</div>"
      ],
      "text/plain": [
       "         0           1           2         3              4      5         6   \\\n",
       "0   Masters   Assoc-voc   Bachelors   HS-grad   Some-college   11th   1st-4th   \n",
       "\n",
       "      7            8         9             10     11          12    13  \\\n",
       "0   10th   Assoc-acdm   7th-8th   Prof-school   12th   Doctorate   9th   \n",
       "\n",
       "         14          15  \n",
       "0   5th-6th   Preschool  "
      ]
     },
     "execution_count": 50,
     "metadata": {},
     "output_type": "execute_result"
    }
   ],
   "source": [
    "ed_list = X_train[\"Education\"].unique()\n",
    "pd.DataFrame([ed_list])"
   ]
  },
  {
   "cell_type": "code",
   "execution_count": 51,
   "metadata": {},
   "outputs": [],
   "source": [
    "def parse_education(text):\n",
    "    if \" ?\" in text or text not in ed_list:\n",
    "        return \"Unknown\"\n",
    "    if text in [\" 1st-4th\",\" 11th\",\" 10th\",\" HS-grad\",\" 7th-8th\",\" 12th\",\" 9th\",\" 5th-6th\",\" Preschool\"]:\n",
    "        return \"Preschool-HighSchool\"\n",
    "    elif text not in ed_list:\n",
    "        return \"Unknown\"\n",
    "    return text"
   ]
  },
  {
   "cell_type": "markdown",
   "metadata": {},
   "source": [
    "<h4>Marital-status</h4>"
   ]
  },
  {
   "cell_type": "code",
   "execution_count": 52,
   "metadata": {},
   "outputs": [
    {
     "data": {
      "text/html": [
       "<div>\n",
       "<style scoped>\n",
       "    .dataframe tbody tr th:only-of-type {\n",
       "        vertical-align: middle;\n",
       "    }\n",
       "\n",
       "    .dataframe tbody tr th {\n",
       "        vertical-align: top;\n",
       "    }\n",
       "\n",
       "    .dataframe thead th {\n",
       "        text-align: right;\n",
       "    }\n",
       "</style>\n",
       "<table border=\"1\" class=\"dataframe\">\n",
       "  <thead>\n",
       "    <tr style=\"text-align: right;\">\n",
       "      <th></th>\n",
       "      <th>0</th>\n",
       "      <th>1</th>\n",
       "      <th>2</th>\n",
       "      <th>3</th>\n",
       "      <th>4</th>\n",
       "      <th>5</th>\n",
       "      <th>6</th>\n",
       "    </tr>\n",
       "  </thead>\n",
       "  <tbody>\n",
       "    <tr>\n",
       "      <th>0</th>\n",
       "      <td>Married-civ-spouse</td>\n",
       "      <td>Divorced</td>\n",
       "      <td>Never-married</td>\n",
       "      <td>Married-spouse-absent</td>\n",
       "      <td>Widowed</td>\n",
       "      <td>Separated</td>\n",
       "      <td>Married-AF-spouse</td>\n",
       "    </tr>\n",
       "  </tbody>\n",
       "</table>\n",
       "</div>"
      ],
      "text/plain": [
       "                     0          1               2                       3  \\\n",
       "0   Married-civ-spouse   Divorced   Never-married   Married-spouse-absent   \n",
       "\n",
       "          4           5                   6  \n",
       "0   Widowed   Separated   Married-AF-spouse  "
      ]
     },
     "execution_count": 52,
     "metadata": {},
     "output_type": "execute_result"
    }
   ],
   "source": [
    "ms_list = X_train[\"Marital-status\"].unique()\n",
    "pd.DataFrame([ms_list])"
   ]
  },
  {
   "cell_type": "code",
   "execution_count": 53,
   "metadata": {},
   "outputs": [],
   "source": [
    "def parse_marital(text):\n",
    "    if \" ?\" in text or text not in ms_list:\n",
    "        return \"Unknown\"\n",
    "    if \"Married\" in text:\n",
    "        return \" Married\"\n",
    "    return(text)"
   ]
  },
  {
   "cell_type": "markdown",
   "metadata": {},
   "source": [
    "<h4>Occupation</h4>"
   ]
  },
  {
   "cell_type": "code",
   "execution_count": 54,
   "metadata": {},
   "outputs": [
    {
     "data": {
      "text/html": [
       "<div>\n",
       "<style scoped>\n",
       "    .dataframe tbody tr th:only-of-type {\n",
       "        vertical-align: middle;\n",
       "    }\n",
       "\n",
       "    .dataframe tbody tr th {\n",
       "        vertical-align: top;\n",
       "    }\n",
       "\n",
       "    .dataframe thead th {\n",
       "        text-align: right;\n",
       "    }\n",
       "</style>\n",
       "<table border=\"1\" class=\"dataframe\">\n",
       "  <thead>\n",
       "    <tr style=\"text-align: right;\">\n",
       "      <th></th>\n",
       "      <th>0</th>\n",
       "      <th>1</th>\n",
       "      <th>2</th>\n",
       "      <th>3</th>\n",
       "      <th>4</th>\n",
       "      <th>5</th>\n",
       "      <th>6</th>\n",
       "      <th>7</th>\n",
       "      <th>8</th>\n",
       "      <th>9</th>\n",
       "      <th>10</th>\n",
       "      <th>11</th>\n",
       "      <th>12</th>\n",
       "      <th>13</th>\n",
       "      <th>14</th>\n",
       "    </tr>\n",
       "  </thead>\n",
       "  <tbody>\n",
       "    <tr>\n",
       "      <th>0</th>\n",
       "      <td>Exec-managerial</td>\n",
       "      <td>?</td>\n",
       "      <td>Craft-repair</td>\n",
       "      <td>Sales</td>\n",
       "      <td>Other-service</td>\n",
       "      <td>Adm-clerical</td>\n",
       "      <td>Prof-specialty</td>\n",
       "      <td>Transport-moving</td>\n",
       "      <td>Farming-fishing</td>\n",
       "      <td>Priv-house-serv</td>\n",
       "      <td>Machine-op-inspct</td>\n",
       "      <td>Protective-serv</td>\n",
       "      <td>Handlers-cleaners</td>\n",
       "      <td>Tech-support</td>\n",
       "      <td>Armed-Forces</td>\n",
       "    </tr>\n",
       "  </tbody>\n",
       "</table>\n",
       "</div>"
      ],
      "text/plain": [
       "                 0   1              2       3               4              5   \\\n",
       "0   Exec-managerial   ?   Craft-repair   Sales   Other-service   Adm-clerical   \n",
       "\n",
       "                6                  7                 8                 9   \\\n",
       "0   Prof-specialty   Transport-moving   Farming-fishing   Priv-house-serv   \n",
       "\n",
       "                   10                11                  12             13  \\\n",
       "0   Machine-op-inspct   Protective-serv   Handlers-cleaners   Tech-support   \n",
       "\n",
       "              14  \n",
       "0   Armed-Forces  "
      ]
     },
     "execution_count": 54,
     "metadata": {},
     "output_type": "execute_result"
    }
   ],
   "source": [
    "oc_list = X_train[\"Occupation\"].unique()\n",
    "pd.DataFrame([oc_list])"
   ]
  },
  {
   "cell_type": "code",
   "execution_count": 55,
   "metadata": {},
   "outputs": [],
   "source": [
    "def parse_occupation(text):\n",
    "    if \" ?\" in text or text not in oc_list:\n",
    "        return \"Unknown\"\n",
    "    return(text)"
   ]
  },
  {
   "cell_type": "markdown",
   "metadata": {},
   "source": [
    "<h4>Relationship</h4>"
   ]
  },
  {
   "cell_type": "code",
   "execution_count": 56,
   "metadata": {},
   "outputs": [
    {
     "data": {
      "text/html": [
       "<div>\n",
       "<style scoped>\n",
       "    .dataframe tbody tr th:only-of-type {\n",
       "        vertical-align: middle;\n",
       "    }\n",
       "\n",
       "    .dataframe tbody tr th {\n",
       "        vertical-align: top;\n",
       "    }\n",
       "\n",
       "    .dataframe thead th {\n",
       "        text-align: right;\n",
       "    }\n",
       "</style>\n",
       "<table border=\"1\" class=\"dataframe\">\n",
       "  <thead>\n",
       "    <tr style=\"text-align: right;\">\n",
       "      <th></th>\n",
       "      <th>0</th>\n",
       "      <th>1</th>\n",
       "      <th>2</th>\n",
       "      <th>3</th>\n",
       "      <th>4</th>\n",
       "      <th>5</th>\n",
       "    </tr>\n",
       "  </thead>\n",
       "  <tbody>\n",
       "    <tr>\n",
       "      <th>0</th>\n",
       "      <td>Husband</td>\n",
       "      <td>Not-in-family</td>\n",
       "      <td>Unmarried</td>\n",
       "      <td>Other-relative</td>\n",
       "      <td>Own-child</td>\n",
       "      <td>Wife</td>\n",
       "    </tr>\n",
       "  </tbody>\n",
       "</table>\n",
       "</div>"
      ],
      "text/plain": [
       "          0               1           2                3           4      5\n",
       "0   Husband   Not-in-family   Unmarried   Other-relative   Own-child   Wife"
      ]
     },
     "execution_count": 56,
     "metadata": {},
     "output_type": "execute_result"
    }
   ],
   "source": [
    "r_list = X_train[\"Relationship\"].unique()\n",
    "pd.DataFrame([r_list])"
   ]
  },
  {
   "cell_type": "code",
   "execution_count": 57,
   "metadata": {},
   "outputs": [],
   "source": [
    "def parse_relationship(text):\n",
    "    if \" ?\" or text not in r_list in text:\n",
    "        return \"Unknown\"\n",
    "    #Nous faisons la distinction de genre à l'aide de la colonne \"Sex\"\n",
    "    if text in [\" Husband\",\" Wife\"]:\n",
    "        return \" Husband\"\n",
    "    elif text not in r_list:\n",
    "        return \"Unknown\"\n",
    "    return text"
   ]
  },
  {
   "cell_type": "markdown",
   "metadata": {},
   "source": [
    "<h4>Sex</h4>"
   ]
  },
  {
   "cell_type": "code",
   "execution_count": 58,
   "metadata": {},
   "outputs": [
    {
     "data": {
      "text/plain": [
       " Male      0.670049\n",
       " Female    0.329951\n",
       "Name: Sex, dtype: float64"
      ]
     },
     "execution_count": 58,
     "metadata": {},
     "output_type": "execute_result"
    }
   ],
   "source": [
    "(X_train[\"Sex\"].value_counts()/len(X_train))[:10]"
   ]
  },
  {
   "cell_type": "code",
   "execution_count": 59,
   "metadata": {},
   "outputs": [],
   "source": [
    "#Nous faisons la distinction de genre à l'aide de la colonne \"Sex\"\n",
    "def parse_sex(text):\n",
    "    if \" ?\" or text not in r_list in text:\n",
    "        return \"Unknown\"\n",
    "    return text"
   ]
  },
  {
   "cell_type": "markdown",
   "metadata": {},
   "source": [
    "<h4>Native country</h4>"
   ]
  },
  {
   "cell_type": "code",
   "execution_count": 60,
   "metadata": {},
   "outputs": [
    {
     "data": {
      "text/html": [
       "<div>\n",
       "<style scoped>\n",
       "    .dataframe tbody tr th:only-of-type {\n",
       "        vertical-align: middle;\n",
       "    }\n",
       "\n",
       "    .dataframe tbody tr th {\n",
       "        vertical-align: top;\n",
       "    }\n",
       "\n",
       "    .dataframe thead th {\n",
       "        text-align: right;\n",
       "    }\n",
       "</style>\n",
       "<table border=\"1\" class=\"dataframe\">\n",
       "  <thead>\n",
       "    <tr style=\"text-align: right;\">\n",
       "      <th></th>\n",
       "      <th>0</th>\n",
       "      <th>1</th>\n",
       "      <th>2</th>\n",
       "      <th>3</th>\n",
       "      <th>4</th>\n",
       "      <th>5</th>\n",
       "      <th>6</th>\n",
       "      <th>7</th>\n",
       "      <th>8</th>\n",
       "      <th>9</th>\n",
       "      <th>...</th>\n",
       "      <th>31</th>\n",
       "      <th>32</th>\n",
       "      <th>33</th>\n",
       "      <th>34</th>\n",
       "      <th>35</th>\n",
       "      <th>36</th>\n",
       "      <th>37</th>\n",
       "      <th>38</th>\n",
       "      <th>39</th>\n",
       "      <th>40</th>\n",
       "    </tr>\n",
       "  </thead>\n",
       "  <tbody>\n",
       "    <tr>\n",
       "      <th>0</th>\n",
       "      <td>United-States</td>\n",
       "      <td>?</td>\n",
       "      <td>Mexico</td>\n",
       "      <td>Germany</td>\n",
       "      <td>China</td>\n",
       "      <td>Philippines</td>\n",
       "      <td>Haiti</td>\n",
       "      <td>India</td>\n",
       "      <td>Peru</td>\n",
       "      <td>South</td>\n",
       "      <td>...</td>\n",
       "      <td>Iran</td>\n",
       "      <td>Ecuador</td>\n",
       "      <td>Thailand</td>\n",
       "      <td>Taiwan</td>\n",
       "      <td>Cambodia</td>\n",
       "      <td>France</td>\n",
       "      <td>Scotland</td>\n",
       "      <td>Honduras</td>\n",
       "      <td>Trinadad&amp;Tobago</td>\n",
       "      <td>Laos</td>\n",
       "    </tr>\n",
       "  </tbody>\n",
       "</table>\n",
       "<p>1 rows × 41 columns</p>\n",
       "</div>"
      ],
      "text/plain": [
       "               0   1        2         3       4             5       6   \\\n",
       "0   United-States   ?   Mexico   Germany   China   Philippines   Haiti   \n",
       "\n",
       "       7      8       9   ...     31        32         33       34         35  \\\n",
       "0   India   Peru   South  ...   Iran   Ecuador   Thailand   Taiwan   Cambodia   \n",
       "\n",
       "        36         37         38                39     40  \n",
       "0   France   Scotland   Honduras   Trinadad&Tobago   Laos  \n",
       "\n",
       "[1 rows x 41 columns]"
      ]
     },
     "execution_count": 60,
     "metadata": {},
     "output_type": "execute_result"
    }
   ],
   "source": [
    "nc_list = X_train[\"Native country\"].unique()\n",
    "pd.DataFrame([nc_list])"
   ]
  },
  {
   "cell_type": "code",
   "execution_count": 61,
   "metadata": {},
   "outputs": [
    {
     "data": {
      "text/plain": [
       " United-States    0.897962\n",
       " Mexico           0.018977\n",
       " ?                0.017725\n",
       " Philippines      0.006051\n",
       " Germany          0.004003\n",
       " Puerto-Rico      0.003912\n",
       " Canada           0.003637\n",
       " India            0.003209\n",
       " Cuba             0.002811\n",
       " El-Salvador      0.002750\n",
       "Name: Native country, dtype: float64"
      ]
     },
     "execution_count": 61,
     "metadata": {},
     "output_type": "execute_result"
    }
   ],
   "source": [
    "(X_train[\"Native country\"].value_counts()/len(X_train))[:10]"
   ]
  },
  {
   "cell_type": "code",
   "execution_count": 62,
   "metadata": {},
   "outputs": [],
   "source": [
    "#Les US, Mexico et ? sont représentés à 93%. On choisit d'associer les autres pays à 'Other'\n",
    "def parse_country(text):\n",
    "    if \" ?\" in text or text not in nc_list:\n",
    "        return \"Unknown\"\n",
    "    if text not in [\" United-States\",\" Mexico\", \" ?\"]:\n",
    "        return \" Other\"\n",
    "    return text"
   ]
  },
  {
   "cell_type": "markdown",
   "metadata": {
    "colab_type": "text",
    "id": "ssOZnxpIXG1K"
   },
   "source": [
    "### 2.2 Pipeline (3 points)\n",
    "Pour faciliter le processus du traitement de données, une pipeline est utilisée. Cela permet de rapidement modifier les transformations appliquées sur l'ensemble de données.\n",
    "\n",
    "#### Implémentation\n",
    "1. Implémenter et associer vos méthodes de traitements a des pipelines.\n",
    "2. Mettez tous vos pipelines dans le ColumnTransformer."
   ]
  },
  {
   "cell_type": "code",
   "execution_count": 63,
   "metadata": {
    "colab": {},
    "colab_type": "code",
    "id": "7jD82yEyW8PQ"
   },
   "outputs": [],
   "source": [
    "from sklearn.base import BaseEstimator, TransformerMixin\n",
    "## Wrapper pour vous aider pour les pipelines\n",
    "class TransformationWrapper(BaseEstimator,TransformerMixin):\n",
    "    \n",
    "    def __init__(self,fitation= None, transformation = None): \n",
    "        \n",
    "        self.transformation = transformation\n",
    "        self.fitation = fitation\n",
    "        \n",
    "    \n",
    "        \n",
    "    def fit(self, X, y=None):\n",
    "        X = pd.DataFrame(X)\n",
    "        self.data_ = None\n",
    "        self.column_name_ = X.columns[0]\n",
    "        if self.fitation == None:\n",
    "            return self\n",
    "        \n",
    "        self.data_ = [self.fitation(X[self.column_name_])]\n",
    "        return self  \n",
    "    \n",
    "    def transform(self, X, y=None): \n",
    "        X = pd.DataFrame(X)\n",
    "        \n",
    "        if self.data_ != None:\n",
    "            return pd.DataFrame(X.apply(\n",
    "                lambda row: pd.Series( self.transformation(row[self.column_name_], self.data_)),\n",
    "                axis = 1\n",
    "            ))\n",
    "        else:\n",
    "            return pd.DataFrame(X.apply(\n",
    "                lambda row: pd.Series( self.transformation(row[self.column_name_])),\n",
    "                axis = 1\n",
    "            ))\n",
    "        \n",
    "        \n",
    "from sklearn.preprocessing import LabelEncoder\n",
    "class LabelEncoderP(LabelEncoder):\n",
    "    def fit(self, X, y=None):\n",
    "        super(LabelEncoderP, self).fit(X)\n",
    "    def transform(self, X, y=None):\n",
    "        return pd.DataFrame(super(LabelEncoderP, self).transform(X))\n",
    "    def fit_transform(self, X, y=None):\n",
    "        return super(LabelEncoderP, self).fit(X).transform(X)"
   ]
  },
  {
   "cell_type": "code",
   "execution_count": 64,
   "metadata": {},
   "outputs": [],
   "source": [
    "# Implémenter ici les différentes transformations customs ici pour que cela soit plus claires (Si vous en avez)\n",
    "class IncomeProcessor:\n",
    "    def __init__(self):\n",
    "        self.labeler = None\n",
    "    \n",
    "    def fit_transform(self, y):\n",
    "        self.labeler = LabelEncoder()\n",
    "        temp = [x.replace(\" \", \"\").replace(\".\", \"\") for x in y]\n",
    "        return self.labeler.fit_transform(temp)\n",
    "    \n",
    "y_train_label = IncomeProcessor().fit_transform(y_train)"
   ]
  },
  {
   "cell_type": "code",
   "execution_count": 65,
   "metadata": {},
   "outputs": [
    {
     "data": {
      "text/plain": [
       "array([1, 1, 0, ..., 0, 0, 0], dtype=int64)"
      ]
     },
     "execution_count": 65,
     "metadata": {},
     "output_type": "execute_result"
    }
   ],
   "source": [
    "y_train_label"
   ]
  },
  {
   "cell_type": "code",
   "execution_count": 66,
   "metadata": {
    "colab": {},
    "colab_type": "code",
    "id": "QgJNaKhbE1RB"
   },
   "outputs": [],
   "source": [
    "from sklearn.pipeline import Pipeline, FeatureUnion\n",
    "from sklearn.compose import ColumnTransformer\n",
    "from sklearn.impute import SimpleImputer\n",
    "from sklearn.preprocessing import StandardScaler, OneHotEncoder\n",
    "\n",
    "\n",
    "pipeline_numerical = Pipeline([\n",
    "    (\"fillna\", SimpleImputer(strategy='mean')),\n",
    "    (\"scaler\", StandardScaler())\n",
    "])\n",
    "\n",
    "pipeline_workclass = Pipeline([\n",
    "    (\"fillna\", SimpleImputer(strategy = 'constant', fill_value=\"Unknown\")),\n",
    "    ('workclass', TransformationWrapper(transformation=parse_workclass)),\n",
    "    (\"encode\", LabelEncoderP()),\n",
    "    (\"oneHotEncode\", OneHotEncoder(categories='auto', sparse=False))\n",
    "])\n",
    "\n",
    "pipeline_education = Pipeline([\n",
    "    (\"fillna\", SimpleImputer(strategy = 'constant', fill_value=\"Unknown\")),\n",
    "    ('education', TransformationWrapper(transformation=parse_education)),\n",
    "    (\"encode\", LabelEncoderP()),\n",
    "    (\"oneHotEncode\", OneHotEncoder(categories='auto', sparse=False))\n",
    "])\n",
    "\n",
    "pipeline_marital = Pipeline([\n",
    "    (\"fillna\", SimpleImputer(strategy = 'constant', fill_value=\"Unknown\")),\n",
    "    ('marital', TransformationWrapper(transformation=parse_marital)),\n",
    "    (\"encode\", LabelEncoderP()),\n",
    "    (\"oneHotEncode\", OneHotEncoder(categories='auto', sparse=False))\n",
    "])\n",
    "\n",
    "pipeline_occupation = Pipeline([\n",
    "    (\"fillna\", SimpleImputer(strategy = 'constant', fill_value=\"Unknown\")),\n",
    "    ('occupation', TransformationWrapper(transformation=parse_occupation)),\n",
    "    (\"encode\", LabelEncoderP()),\n",
    "    (\"oneHotEncode\", OneHotEncoder(categories='auto', sparse=False))\n",
    "])\n",
    "\n",
    "pipeline_country = Pipeline([\n",
    "    (\"fillna\", SimpleImputer(strategy = 'constant', fill_value=\"Unknown\")),\n",
    "    ('native_country', TransformationWrapper(transformation=parse_country)),\n",
    "    (\"encode\", LabelEncoderP()),\n",
    "    (\"oneHotEncode\", OneHotEncoder(categories='auto', sparse=False))\n",
    "])\n",
    "\n",
    "pipeline_relationship = Pipeline([\n",
    "    (\"fillna\", SimpleImputer(strategy = 'constant', fill_value=\"Unknown\")),\n",
    "    ('relationship', TransformationWrapper(transformation=parse_relationship)),\n",
    "    (\"encode\", LabelEncoderP()),\n",
    "    (\"oneHotEncode\", OneHotEncoder(categories='auto', sparse=False))\n",
    "])\n",
    "\n",
    "pipeline_sex = Pipeline([\n",
    "    (\"fillna\", SimpleImputer(strategy = 'constant', fill_value=\"Unknown\")),\n",
    "    ('sex', TransformationWrapper(transformation=parse_sex)),\n",
    "    (\"encode\", LabelEncoderP()),\n",
    "    (\"oneHotEncode\", OneHotEncoder(categories='auto', sparse=False))\n",
    "])\n",
    "\n",
    "\n",
    "\n",
    "full_pipeline = ColumnTransformer([\n",
    "    (\"Age\", pipeline_numerical, [\"Age\"]),\n",
    "    (\"Workclass\", pipeline_workclass, [\"Workclass\"]),\n",
    "    (\"Final weight\", pipeline_numerical, [\"Final weight\"]),\n",
    "    (\"Education\", pipeline_education, [\"Education\"]),\n",
    "    (\"Marital-status\", pipeline_marital, [\"Marital-status\"]),\n",
    "    (\"Occupation\", pipeline_occupation, [\"Occupation\"]),\n",
    "    (\"Relationship\", pipeline_relationship, [\"Relationship\"]),\n",
    "    (\"Sex\", pipeline_sex, [\"Sex\"]),\n",
    "    (\"Hours per week\", pipeline_numerical, [\"Hours per week\"]),\n",
    "    (\"Native country\", pipeline_country, [\"Native country\"])\n",
    "])"
   ]
  },
  {
   "cell_type": "markdown",
   "metadata": {
    "colab_type": "text",
    "id": "TcprzRziXG1Q"
   },
   "source": [
    "Lancez le pipeline"
   ]
  },
  {
   "cell_type": "code",
   "execution_count": 67,
   "metadata": {
    "colab": {},
    "colab_type": "code",
    "id": "N97zWoWQXG1K"
   },
   "outputs": [
    {
     "data": {
      "text/html": [
       "<div>\n",
       "<style scoped>\n",
       "    .dataframe tbody tr th:only-of-type {\n",
       "        vertical-align: middle;\n",
       "    }\n",
       "\n",
       "    .dataframe tbody tr th {\n",
       "        vertical-align: top;\n",
       "    }\n",
       "\n",
       "    .dataframe thead th {\n",
       "        text-align: right;\n",
       "    }\n",
       "</style>\n",
       "<table border=\"1\" class=\"dataframe\">\n",
       "  <thead>\n",
       "    <tr style=\"text-align: right;\">\n",
       "      <th></th>\n",
       "      <th>0</th>\n",
       "      <th>1</th>\n",
       "      <th>2</th>\n",
       "      <th>3</th>\n",
       "      <th>4</th>\n",
       "      <th>5</th>\n",
       "      <th>6</th>\n",
       "      <th>7</th>\n",
       "      <th>8</th>\n",
       "      <th>9</th>\n",
       "      <th>...</th>\n",
       "      <th>33</th>\n",
       "      <th>34</th>\n",
       "      <th>35</th>\n",
       "      <th>36</th>\n",
       "      <th>37</th>\n",
       "      <th>38</th>\n",
       "      <th>39</th>\n",
       "      <th>40</th>\n",
       "      <th>41</th>\n",
       "      <th>42</th>\n",
       "    </tr>\n",
       "  </thead>\n",
       "  <tbody>\n",
       "    <tr>\n",
       "      <th>0</th>\n",
       "      <td>Age</td>\n",
       "      <td>wc_ Private</td>\n",
       "      <td>wc_Unknown</td>\n",
       "      <td>wc_Self-emp</td>\n",
       "      <td>wc_Public</td>\n",
       "      <td>wc_ Without-pay</td>\n",
       "      <td>wc_ Never-worked</td>\n",
       "      <td>Final weight</td>\n",
       "      <td>ed_ Masters</td>\n",
       "      <td>ed_ Assoc-voc</td>\n",
       "      <td>...</td>\n",
       "      <td>oc_ Handlers-cleaners</td>\n",
       "      <td>oc_ Tech-support</td>\n",
       "      <td>oc_ Armed-Forces</td>\n",
       "      <td>r_Unknown</td>\n",
       "      <td>Sex</td>\n",
       "      <td>Hours per week</td>\n",
       "      <td>nc_ United-States</td>\n",
       "      <td>nc_Unknown</td>\n",
       "      <td>nc_ Mexico</td>\n",
       "      <td>nc_ Other</td>\n",
       "    </tr>\n",
       "  </tbody>\n",
       "</table>\n",
       "<p>1 rows × 43 columns</p>\n",
       "</div>"
      ],
      "text/plain": [
       "    0            1           2            3          4                5   \\\n",
       "0  Age  wc_ Private  wc_Unknown  wc_Self-emp  wc_Public  wc_ Without-pay   \n",
       "\n",
       "                 6             7            8              9   ...  \\\n",
       "0  wc_ Never-worked  Final weight  ed_ Masters  ed_ Assoc-voc  ...   \n",
       "\n",
       "                      33                34                35         36   37  \\\n",
       "0  oc_ Handlers-cleaners  oc_ Tech-support  oc_ Armed-Forces  r_Unknown  Sex   \n",
       "\n",
       "               38                 39          40          41         42  \n",
       "0  Hours per week  nc_ United-States  nc_Unknown  nc_ Mexico  nc_ Other  \n",
       "\n",
       "[1 rows x 43 columns]"
      ]
     },
     "execution_count": 67,
     "metadata": {},
     "output_type": "execute_result"
    }
   ],
   "source": [
    "def add(e,L):\n",
    "    if e not in L:\n",
    "        L.append(e)\n",
    "    return L\n",
    "\n",
    "column_names = [\"Age\"]\n",
    "for k in wc_list:\n",
    "    add(\"wc_\" + parse_workclass(k), column_names) \n",
    "column_names.append(\"Final weight\")\n",
    "for k in ed_list:\n",
    "    add(\"ed_\" + parse_education(k), column_names) \n",
    "for k in ms_list:\n",
    "    add(\"ms_\" + parse_marital(k), column_names) \n",
    "for k in oc_list:\n",
    "    add(\"oc_\" + parse_occupation(k), column_names) \n",
    "for k in r_list:\n",
    "    add(\"r_\" + parse_relationship(k), column_names) \n",
    "column_names.append(\"Sex\")\n",
    "column_names.append(\"Hours per week\")\n",
    "for k in nc_list:\n",
    "    add(\"nc_\" + parse_country(k), column_names) \n",
    "\n",
    "pd.DataFrame([column_names])"
   ]
  },
  {
   "cell_type": "code",
   "execution_count": 68,
   "metadata": {
    "colab": {},
    "colab_type": "code",
    "id": "1YAV0fTfXG1R",
    "scrolled": false
   },
   "outputs": [
    {
     "name": "stderr",
     "output_type": "stream",
     "text": [
      "C:\\Users\\gabig\\Anaconda3\\lib\\site-packages\\sklearn\\preprocessing\\label.py:219: DataConversionWarning: A column-vector y was passed when a 1d array was expected. Please change the shape of y to (n_samples, ), for example using ravel().\n",
      "  y = column_or_1d(y, warn=True)\n",
      "C:\\Users\\gabig\\Anaconda3\\lib\\site-packages\\sklearn\\preprocessing\\label.py:252: DataConversionWarning: A column-vector y was passed when a 1d array was expected. Please change the shape of y to (n_samples, ), for example using ravel().\n",
      "  y = column_or_1d(y, warn=True)\n",
      "C:\\Users\\gabig\\Anaconda3\\lib\\site-packages\\sklearn\\preprocessing\\label.py:219: DataConversionWarning: A column-vector y was passed when a 1d array was expected. Please change the shape of y to (n_samples, ), for example using ravel().\n",
      "  y = column_or_1d(y, warn=True)\n",
      "C:\\Users\\gabig\\Anaconda3\\lib\\site-packages\\sklearn\\preprocessing\\label.py:252: DataConversionWarning: A column-vector y was passed when a 1d array was expected. Please change the shape of y to (n_samples, ), for example using ravel().\n",
      "  y = column_or_1d(y, warn=True)\n",
      "C:\\Users\\gabig\\Anaconda3\\lib\\site-packages\\sklearn\\preprocessing\\label.py:219: DataConversionWarning: A column-vector y was passed when a 1d array was expected. Please change the shape of y to (n_samples, ), for example using ravel().\n",
      "  y = column_or_1d(y, warn=True)\n",
      "C:\\Users\\gabig\\Anaconda3\\lib\\site-packages\\sklearn\\preprocessing\\label.py:252: DataConversionWarning: A column-vector y was passed when a 1d array was expected. Please change the shape of y to (n_samples, ), for example using ravel().\n",
      "  y = column_or_1d(y, warn=True)\n",
      "C:\\Users\\gabig\\Anaconda3\\lib\\site-packages\\sklearn\\preprocessing\\label.py:219: DataConversionWarning: A column-vector y was passed when a 1d array was expected. Please change the shape of y to (n_samples, ), for example using ravel().\n",
      "  y = column_or_1d(y, warn=True)\n",
      "C:\\Users\\gabig\\Anaconda3\\lib\\site-packages\\sklearn\\preprocessing\\label.py:252: DataConversionWarning: A column-vector y was passed when a 1d array was expected. Please change the shape of y to (n_samples, ), for example using ravel().\n",
      "  y = column_or_1d(y, warn=True)\n",
      "C:\\Users\\gabig\\Anaconda3\\lib\\site-packages\\sklearn\\preprocessing\\label.py:219: DataConversionWarning: A column-vector y was passed when a 1d array was expected. Please change the shape of y to (n_samples, ), for example using ravel().\n",
      "  y = column_or_1d(y, warn=True)\n",
      "C:\\Users\\gabig\\Anaconda3\\lib\\site-packages\\sklearn\\preprocessing\\label.py:252: DataConversionWarning: A column-vector y was passed when a 1d array was expected. Please change the shape of y to (n_samples, ), for example using ravel().\n",
      "  y = column_or_1d(y, warn=True)\n",
      "C:\\Users\\gabig\\Anaconda3\\lib\\site-packages\\sklearn\\preprocessing\\label.py:219: DataConversionWarning: A column-vector y was passed when a 1d array was expected. Please change the shape of y to (n_samples, ), for example using ravel().\n",
      "  y = column_or_1d(y, warn=True)\n",
      "C:\\Users\\gabig\\Anaconda3\\lib\\site-packages\\sklearn\\preprocessing\\label.py:252: DataConversionWarning: A column-vector y was passed when a 1d array was expected. Please change the shape of y to (n_samples, ), for example using ravel().\n",
      "  y = column_or_1d(y, warn=True)\n",
      "C:\\Users\\gabig\\Anaconda3\\lib\\site-packages\\sklearn\\preprocessing\\label.py:219: DataConversionWarning: A column-vector y was passed when a 1d array was expected. Please change the shape of y to (n_samples, ), for example using ravel().\n",
      "  y = column_or_1d(y, warn=True)\n",
      "C:\\Users\\gabig\\Anaconda3\\lib\\site-packages\\sklearn\\preprocessing\\label.py:252: DataConversionWarning: A column-vector y was passed when a 1d array was expected. Please change the shape of y to (n_samples, ), for example using ravel().\n",
      "  y = column_or_1d(y, warn=True)\n",
      "C:\\Users\\gabig\\Anaconda3\\lib\\site-packages\\sklearn\\preprocessing\\label.py:252: DataConversionWarning: A column-vector y was passed when a 1d array was expected. Please change the shape of y to (n_samples, ), for example using ravel().\n",
      "  y = column_or_1d(y, warn=True)\n",
      "C:\\Users\\gabig\\Anaconda3\\lib\\site-packages\\sklearn\\preprocessing\\label.py:252: DataConversionWarning: A column-vector y was passed when a 1d array was expected. Please change the shape of y to (n_samples, ), for example using ravel().\n",
      "  y = column_or_1d(y, warn=True)\n",
      "C:\\Users\\gabig\\Anaconda3\\lib\\site-packages\\sklearn\\preprocessing\\label.py:252: DataConversionWarning: A column-vector y was passed when a 1d array was expected. Please change the shape of y to (n_samples, ), for example using ravel().\n",
      "  y = column_or_1d(y, warn=True)\n",
      "C:\\Users\\gabig\\Anaconda3\\lib\\site-packages\\sklearn\\preprocessing\\label.py:252: DataConversionWarning: A column-vector y was passed when a 1d array was expected. Please change the shape of y to (n_samples, ), for example using ravel().\n",
      "  y = column_or_1d(y, warn=True)\n",
      "C:\\Users\\gabig\\Anaconda3\\lib\\site-packages\\sklearn\\preprocessing\\label.py:252: DataConversionWarning: A column-vector y was passed when a 1d array was expected. Please change the shape of y to (n_samples, ), for example using ravel().\n",
      "  y = column_or_1d(y, warn=True)\n",
      "C:\\Users\\gabig\\Anaconda3\\lib\\site-packages\\sklearn\\preprocessing\\label.py:252: DataConversionWarning: A column-vector y was passed when a 1d array was expected. Please change the shape of y to (n_samples, ), for example using ravel().\n",
      "  y = column_or_1d(y, warn=True)\n",
      "C:\\Users\\gabig\\Anaconda3\\lib\\site-packages\\sklearn\\preprocessing\\label.py:252: DataConversionWarning: A column-vector y was passed when a 1d array was expected. Please change the shape of y to (n_samples, ), for example using ravel().\n",
      "  y = column_or_1d(y, warn=True)\n"
     ]
    }
   ],
   "source": [
    "X_train_pipe = pd.DataFrame(full_pipeline.fit_transform(X_train), columns=column_names)\n",
    "X_test_pipe = pd.DataFrame(full_pipeline.transform(X_test), columns=column_names)"
   ]
  },
  {
   "cell_type": "code",
   "execution_count": 69,
   "metadata": {},
   "outputs": [
    {
     "data": {
      "text/html": [
       "<div>\n",
       "<style scoped>\n",
       "    .dataframe tbody tr th:only-of-type {\n",
       "        vertical-align: middle;\n",
       "    }\n",
       "\n",
       "    .dataframe tbody tr th {\n",
       "        vertical-align: top;\n",
       "    }\n",
       "\n",
       "    .dataframe thead th {\n",
       "        text-align: right;\n",
       "    }\n",
       "</style>\n",
       "<table border=\"1\" class=\"dataframe\">\n",
       "  <thead>\n",
       "    <tr style=\"text-align: right;\">\n",
       "      <th></th>\n",
       "      <th>Age</th>\n",
       "      <th>wc_ Private</th>\n",
       "      <th>wc_Unknown</th>\n",
       "      <th>wc_Self-emp</th>\n",
       "      <th>wc_Public</th>\n",
       "      <th>wc_ Without-pay</th>\n",
       "      <th>wc_ Never-worked</th>\n",
       "      <th>Final weight</th>\n",
       "      <th>ed_ Masters</th>\n",
       "      <th>ed_ Assoc-voc</th>\n",
       "      <th>...</th>\n",
       "      <th>oc_ Handlers-cleaners</th>\n",
       "      <th>oc_ Tech-support</th>\n",
       "      <th>oc_ Armed-Forces</th>\n",
       "      <th>r_Unknown</th>\n",
       "      <th>Sex</th>\n",
       "      <th>Hours per week</th>\n",
       "      <th>nc_ United-States</th>\n",
       "      <th>nc_Unknown</th>\n",
       "      <th>nc_ Mexico</th>\n",
       "      <th>nc_ Other</th>\n",
       "    </tr>\n",
       "  </thead>\n",
       "  <tbody>\n",
       "    <tr>\n",
       "      <th>0</th>\n",
       "      <td>-0.190154</td>\n",
       "      <td>0.0</td>\n",
       "      <td>1.0</td>\n",
       "      <td>0.0</td>\n",
       "      <td>0.0</td>\n",
       "      <td>0.0</td>\n",
       "      <td>0.0</td>\n",
       "      <td>-1.503257</td>\n",
       "      <td>0.0</td>\n",
       "      <td>0.0</td>\n",
       "      <td>...</td>\n",
       "      <td>0.0</td>\n",
       "      <td>0.0</td>\n",
       "      <td>0.0</td>\n",
       "      <td>1.0</td>\n",
       "      <td>1.0</td>\n",
       "      <td>0.774580</td>\n",
       "      <td>0.0</td>\n",
       "      <td>0.0</td>\n",
       "      <td>1.0</td>\n",
       "      <td>0.0</td>\n",
       "    </tr>\n",
       "    <tr>\n",
       "      <th>1</th>\n",
       "      <td>0.974165</td>\n",
       "      <td>0.0</td>\n",
       "      <td>0.0</td>\n",
       "      <td>0.0</td>\n",
       "      <td>0.0</td>\n",
       "      <td>0.0</td>\n",
       "      <td>1.0</td>\n",
       "      <td>-0.285780</td>\n",
       "      <td>0.0</td>\n",
       "      <td>1.0</td>\n",
       "      <td>...</td>\n",
       "      <td>0.0</td>\n",
       "      <td>0.0</td>\n",
       "      <td>1.0</td>\n",
       "      <td>1.0</td>\n",
       "      <td>1.0</td>\n",
       "      <td>0.774580</td>\n",
       "      <td>0.0</td>\n",
       "      <td>0.0</td>\n",
       "      <td>1.0</td>\n",
       "      <td>0.0</td>\n",
       "    </tr>\n",
       "    <tr>\n",
       "      <th>2</th>\n",
       "      <td>-0.190154</td>\n",
       "      <td>0.0</td>\n",
       "      <td>1.0</td>\n",
       "      <td>0.0</td>\n",
       "      <td>0.0</td>\n",
       "      <td>0.0</td>\n",
       "      <td>0.0</td>\n",
       "      <td>1.598580</td>\n",
       "      <td>0.0</td>\n",
       "      <td>1.0</td>\n",
       "      <td>...</td>\n",
       "      <td>0.0</td>\n",
       "      <td>0.0</td>\n",
       "      <td>0.0</td>\n",
       "      <td>1.0</td>\n",
       "      <td>1.0</td>\n",
       "      <td>-0.030764</td>\n",
       "      <td>0.0</td>\n",
       "      <td>0.0</td>\n",
       "      <td>1.0</td>\n",
       "      <td>0.0</td>\n",
       "    </tr>\n",
       "    <tr>\n",
       "      <th>3</th>\n",
       "      <td>0.246465</td>\n",
       "      <td>0.0</td>\n",
       "      <td>0.0</td>\n",
       "      <td>0.0</td>\n",
       "      <td>0.0</td>\n",
       "      <td>1.0</td>\n",
       "      <td>0.0</td>\n",
       "      <td>-0.012838</td>\n",
       "      <td>0.0</td>\n",
       "      <td>0.0</td>\n",
       "      <td>...</td>\n",
       "      <td>0.0</td>\n",
       "      <td>0.0</td>\n",
       "      <td>0.0</td>\n",
       "      <td>1.0</td>\n",
       "      <td>1.0</td>\n",
       "      <td>1.579923</td>\n",
       "      <td>0.0</td>\n",
       "      <td>0.0</td>\n",
       "      <td>1.0</td>\n",
       "      <td>0.0</td>\n",
       "    </tr>\n",
       "    <tr>\n",
       "      <th>4</th>\n",
       "      <td>0.392005</td>\n",
       "      <td>0.0</td>\n",
       "      <td>1.0</td>\n",
       "      <td>0.0</td>\n",
       "      <td>0.0</td>\n",
       "      <td>0.0</td>\n",
       "      <td>0.0</td>\n",
       "      <td>-1.383261</td>\n",
       "      <td>0.0</td>\n",
       "      <td>0.0</td>\n",
       "      <td>...</td>\n",
       "      <td>0.0</td>\n",
       "      <td>0.0</td>\n",
       "      <td>0.0</td>\n",
       "      <td>1.0</td>\n",
       "      <td>1.0</td>\n",
       "      <td>0.613511</td>\n",
       "      <td>0.0</td>\n",
       "      <td>0.0</td>\n",
       "      <td>1.0</td>\n",
       "      <td>0.0</td>\n",
       "    </tr>\n",
       "  </tbody>\n",
       "</table>\n",
       "<p>5 rows × 43 columns</p>\n",
       "</div>"
      ],
      "text/plain": [
       "        Age  wc_ Private  wc_Unknown  wc_Self-emp  wc_Public  wc_ Without-pay  \\\n",
       "0 -0.190154          0.0         1.0          0.0        0.0              0.0   \n",
       "1  0.974165          0.0         0.0          0.0        0.0              0.0   \n",
       "2 -0.190154          0.0         1.0          0.0        0.0              0.0   \n",
       "3  0.246465          0.0         0.0          0.0        0.0              1.0   \n",
       "4  0.392005          0.0         1.0          0.0        0.0              0.0   \n",
       "\n",
       "   wc_ Never-worked  Final weight  ed_ Masters  ed_ Assoc-voc  ...  \\\n",
       "0               0.0     -1.503257          0.0            0.0  ...   \n",
       "1               1.0     -0.285780          0.0            1.0  ...   \n",
       "2               0.0      1.598580          0.0            1.0  ...   \n",
       "3               0.0     -0.012838          0.0            0.0  ...   \n",
       "4               0.0     -1.383261          0.0            0.0  ...   \n",
       "\n",
       "   oc_ Handlers-cleaners  oc_ Tech-support  oc_ Armed-Forces  r_Unknown  Sex  \\\n",
       "0                    0.0               0.0               0.0        1.0  1.0   \n",
       "1                    0.0               0.0               1.0        1.0  1.0   \n",
       "2                    0.0               0.0               0.0        1.0  1.0   \n",
       "3                    0.0               0.0               0.0        1.0  1.0   \n",
       "4                    0.0               0.0               0.0        1.0  1.0   \n",
       "\n",
       "   Hours per week  nc_ United-States  nc_Unknown  nc_ Mexico  nc_ Other  \n",
       "0        0.774580                0.0         0.0         1.0        0.0  \n",
       "1        0.774580                0.0         0.0         1.0        0.0  \n",
       "2       -0.030764                0.0         0.0         1.0        0.0  \n",
       "3        1.579923                0.0         0.0         1.0        0.0  \n",
       "4        0.613511                0.0         0.0         1.0        0.0  \n",
       "\n",
       "[5 rows x 43 columns]"
      ]
     },
     "execution_count": 69,
     "metadata": {},
     "output_type": "execute_result"
    }
   ],
   "source": [
    "X_train_pipe.head()"
   ]
  },
  {
   "cell_type": "markdown",
   "metadata": {
    "colab_type": "text",
    "id": "jZWQoaa2XG1Z"
   },
   "source": [
    "# 3. Model selection (2 points)"
   ]
  },
  {
   "cell_type": "markdown",
   "metadata": {
    "colab_type": "text",
    "id": "JxwJyM9gXG1Z"
   },
   "source": [
    "Encodage de la classe cible sous forme d'entiers pour l'utiliser\n",
    "avec les algorithmes de scikit-learn. Vous devez avoir 2 classes."
   ]
  },
  {
   "cell_type": "code",
   "execution_count": 70,
   "metadata": {
    "colab": {},
    "colab_type": "code",
    "id": "mXfDgss4XG1a"
   },
   "outputs": [
    {
     "name": "stdout",
     "output_type": "stream",
     "text": [
      "[1 1 0 ... 0 0 0]\n"
     ]
    }
   ],
   "source": [
    "from sklearn.preprocessing import LabelEncoder\n",
    "y_train.loc[y_train == ' >50K.' ] = ' >50K'\n",
    "y_train.loc[y_train == ' <=50K.'] = ' <=50K'\n",
    "target_label = LabelEncoder()\n",
    "y_train_label = target_label.fit_transform(y_train)\n",
    "print(y_train_label)"
   ]
  },
  {
   "cell_type": "markdown",
   "metadata": {
    "colab_type": "text",
    "id": "5ekhKj0cXG1e"
   },
   "source": [
    "## 3.1 Ensemble de validation (0.5 point)\n",
    "Pour comparer différents modèles entre eux, on ne peut pas utiliser\n",
    "l'ensemble de test, sinon on serait tenté de garder le modèle correspondant le mieux à l'ensemble de test ce qui pourrait conduire à l'overfitting.\n",
    "\n",
    "Il est d'usage de créer un nouvel ensemble de la taille de l'ensemble de test, l'ensemble de **validation**.\n",
    "\n",
    "###  Cross-validation\n",
    "\n",
    "La cross-validation est une méthode utile pour comparer la performance de différents modèles de machine learning **sans créer d'ensemble de validation**.\n",
    "\n",
    "Il existe différents types de cross-validation, la procédure la plus classique est la suivante:\n",
    "* Diviser aléatoirement l'ensemble d'entraînement en deux parties (90%/10% par exemple).\n",
    "* Entraîner le modèle sur la plus grande partie, et le tester sur l'autre partie.\n",
    "* Recommencer n fois\n",
    "* Calculer la moyenne et l'écart type des résultats\n",
    "\n",
    "Les avantages sont les suivants:\n",
    "* Considérer la totalité de l'ensemble d'entraînement pour l'évaluation (sans se priver de l'ensemble de validation)\n",
    "* Obtenir l'écart-type des résultats permet une meilleure évaluation de la précision du modèle.\n",
    "\n",
    "L'inconvénient principal est le temps de calcul, étant donné que l'on effectue l'apprentissage du modèle plusieurs fois, cette méthode peut être impossible pour des datasets contenant un grand nombre d'exemple (> 10e5)\n",
    "\n",
    "### Implémentation\n",
    "1. Implémenter la fonction `compare()`. Cette fonction effectue la crossvalidation pour différents modèles et retourne la moyenne et l'écart-type des métriques pour chaque modèle.\n",
    "\n"
   ]
  },
  {
   "cell_type": "code",
   "execution_count": 71,
   "metadata": {
    "colab": {},
    "colab_type": "code",
    "id": "WF3S-utAXG1k"
   },
   "outputs": [],
   "source": [
    "import time\n",
    "from sklearn.model_selection import cross_validate\n",
    "\n",
    "\n",
    "def compare(models,X_train,y_train,nb_runs,scoring):\n",
    "    scores = {}\n",
    "    for index, m in enumerate(models):\n",
    "        start = time.time()\n",
    "        model_name = \"{}_{}\".format(index, str(type(m)))\n",
    "        print(\"Running on \", model_name)\n",
    "        scores[model_name] = {}\n",
    "        \n",
    "        out = cross_validate(m, X_train, y_train, cv=nb_runs, scoring=scoring)\n",
    "        for scoring_str in scoring:\n",
    "            scoring_str = \"test_\" + scoring_str\n",
    "            scores[model_name][scoring_str] = {\n",
    "                \"mean\": np.mean(out[scoring_str]),\n",
    "                \"std\": np.std(out[scoring_str])\n",
    "            }\n",
    "        print(\"took : \", time.time() - start, \" seconds\\n\")\n",
    "    return scores"
   ]
  },
  {
   "cell_type": "markdown",
   "metadata": {
    "colab_type": "text",
    "id": "GMqcqhGxXG1j"
   },
   "source": [
    "## 3.2 Essai de modèle de sklearn (0.5 point)\n",
    "\n",
    "\n",
    "**Choisir au moins deux modèles permettant la classification binaire sur sklearn en plus du modèle implémenté dans la première partie du TP**.\n",
    "\n",
    "**En vous basant sur les différentes métriques retournées par la fonction `compare()`, concluez quant au modèle le plus performant.**\n",
    "\n",
    "Evaluez les modèles pour les différentes métriques proposées:\n",
    "* **log loss**: c'est la métrique d'évaluation de kaggle\n",
    "* **precision**: correspond à la qualité de la prédiction, le nombre de classes correctement prédites par le nombre de prédiction total\n",
    "* **recall**: le nombre d'éléments appartenant à une classe, identifiés comme tel, divisé par le nombre total des éléments de cette classe.\n",
    "* **f-score**: une moyenne de la precision et du recall\n",
    "\n",
    "**Remarque: precision et recall sont deux mesures complémentaires pour l'évaluation d'un modèle de classification.**\n",
    "\n",
    "Dans le cas d'une classification binaire avec un déséquilibre de la classe cible important, (90%/10%), en évaluant le résultat de la classification avec l'accuracy (nombre de prédictions correctes divisé par le nombre de prédictions total), on peut obtenir un très bon score (90% d'accuracy) en choisissant de prédire systématiquement la classe majoritaire.\n",
    "\n",
    "Dans un tel cas, la precision serait élevée de même, mais le recall serait très bas , nous indiquant la médiocrité de notre modèle.\n"
   ]
  },
  {
   "cell_type": "code",
   "execution_count": 72,
   "metadata": {},
   "outputs": [],
   "source": [
    "from sklearn.model_selection import GridSearchCV, RandomizedSearchCV\n",
    "from sklearn.calibration import CalibratedClassifierCV\n",
    "from sklearn.ensemble import RandomForestClassifier\n",
    "from sklearn.datasets import make_moons\n",
    "from sklearn.metrics import accuracy_score, log_loss\n",
    "\n",
    "def print_metrics(model):\n",
    "    means = model.cv_results_['mean_test_score']\n",
    "    standard_deviations = model.cv_results_['std_test_score']\n",
    "    for mean, std, params in zip(means, standard_deviations, model.cv_results_['params']):\n",
    "        print(\"%0.3f (+/-%0.03f) for %r\" % (mean, std * 2, params))"
   ]
  },
  {
   "cell_type": "code",
   "execution_count": 73,
   "metadata": {
    "colab": {},
    "colab_type": "code",
    "id": "gSsKSE6cXG1n"
   },
   "outputs": [
    {
     "name": "stdout",
     "output_type": "stream",
     "text": [
      "Running on  0_<class 'sklearn.svm.classes.SVC'>\n",
      "took :  432.94793677330017  seconds\n",
      "\n",
      "Running on  1_<class 'sklearn.naive_bayes.GaussianNB'>\n",
      "took :  1.027848482131958  seconds\n",
      "\n",
      "Running on  2_<class 'sklearn.neural_network.multilayer_perceptron.MLPClassifier'>\n",
      "took :  9.679182767868042  seconds\n",
      "\n",
      "Running on  3_<class '__main__.SoftmaxClassifier'>\n",
      "took :  81.36766386032104  seconds\n",
      "\n",
      "{\n",
      "    \"0_<class 'sklearn.svm.classes.SVC'>\": {\n",
      "        \"test_f1_macro\": {\n",
      "            \"mean\": 0.738536580974678,\n",
      "            \"std\": 0.00033730866787684555\n",
      "        },\n",
      "        \"test_neg_log_loss\": {\n",
      "            \"mean\": -0.368052829157507,\n",
      "            \"std\": 0.005098168170419803\n",
      "        },\n",
      "        \"test_precision_macro\": {\n",
      "            \"mean\": 0.7780092901787382,\n",
      "            \"std\": 0.005610461115915011\n",
      "        },\n",
      "        \"test_recall_macro\": {\n",
      "            \"mean\": 0.7170228545314392,\n",
      "            \"std\": 0.0013968301647226955\n",
      "        }\n",
      "    },\n",
      "    \"1_<class 'sklearn.naive_bayes.GaussianNB'>\": {\n",
      "        \"test_f1_macro\": {\n",
      "            \"mean\": 0.5631429790655121,\n",
      "            \"std\": 0.05786877947935676\n",
      "        },\n",
      "        \"test_neg_log_loss\": {\n",
      "            \"mean\": -4.914964298550777,\n",
      "            \"std\": 1.1806705258797672\n",
      "        },\n",
      "        \"test_precision_macro\": {\n",
      "            \"mean\": 0.6490965695951741,\n",
      "            \"std\": 0.016454130784338328\n",
      "        },\n",
      "        \"test_recall_macro\": {\n",
      "            \"mean\": 0.6902096051405819,\n",
      "            \"std\": 0.036094170773004475\n",
      "        }\n",
      "    },\n",
      "    \"2_<class 'sklearn.neural_network.multilayer_perceptron.MLPClassifier'>\": {\n",
      "        \"test_f1_macro\": {\n",
      "            \"mean\": 0.759940927661902,\n",
      "            \"std\": 0.005008415653179554\n",
      "        },\n",
      "        \"test_neg_log_loss\": {\n",
      "            \"mean\": -0.35304448022051804,\n",
      "            \"std\": 0.0021525543824335303\n",
      "        },\n",
      "        \"test_precision_macro\": {\n",
      "            \"mean\": 0.7690619686317572,\n",
      "            \"std\": 0.002794785665099331\n",
      "        },\n",
      "        \"test_recall_macro\": {\n",
      "            \"mean\": 0.7523557631068639,\n",
      "            \"std\": 0.006552483022647437\n",
      "        }\n",
      "    },\n",
      "    \"3_<class '__main__.SoftmaxClassifier'>\": {\n",
      "        \"test_f1_macro\": {\n",
      "            \"mean\": 0.676596687750993,\n",
      "            \"std\": 0.008129175559456026\n",
      "        },\n",
      "        \"test_neg_log_loss\": {\n",
      "            \"mean\": -0.40250792840628014,\n",
      "            \"std\": 0.004421181415377257\n",
      "        },\n",
      "        \"test_precision_macro\": {\n",
      "            \"mean\": 0.7372988825809564,\n",
      "            \"std\": 0.01509001656815745\n",
      "        },\n",
      "        \"test_recall_macro\": {\n",
      "            \"mean\": 0.6554787672767334,\n",
      "            \"std\": 0.006191337258477092\n",
      "        }\n",
      "    }\n",
      "}\n"
     ]
    }
   ],
   "source": [
    "import json\n",
    "from sklearn.svm import SVC\n",
    "from sklearn.tree import DecisionTreeClassifier\n",
    "from sklearn.naive_bayes import GaussianNB\n",
    "from sklearn.neural_network import MLPClassifier\n",
    "\n",
    "nb_run = 2\n",
    "\n",
    "models = [\n",
    "    SVC(gamma='auto',probability=True),\n",
    "    GaussianNB(),\n",
    "    MLPClassifier(hidden_layer_sizes=(50,50,), early_stopping=True),\n",
    "    SoftmaxClassifier(),\n",
    "]\n",
    "\n",
    "scoring = ['neg_log_loss', 'precision_macro','recall_macro','f1_macro']\n",
    "print(json.dumps(compare(models,X_train_pipe,y_train_label,nb_run, scoring), indent=4, sort_keys=True))"
   ]
  },
  {
   "cell_type": "markdown",
   "metadata": {
    "colab_type": "text",
    "id": "kutzIhLu1frH"
   },
   "source": [
    "Justification pour le meilleur modèle\n",
    "\n",
    "Le modèle MLPClassifier à le mieux performé, avec le meilleur score LogLoss (0.99) et un bon score F1(0.30). LogLoss nous indique que l'algorithme performe bien même si les classes sont imbalancées (75% <= 50k, 25% >50k), alors que d'autres modèle, comme le GaussianNB, ni arrive pas.\n",
    "F1 nous indique qu'il y a un bon mélange de précision et de recall. C'est un bon complément au LogLoss et indique que le modèle à un pouvoir prédictif adéquat."
   ]
  },
  {
   "cell_type": "markdown",
   "metadata": {
    "colab_type": "text",
    "id": "_th8iyQ2XG1u"
   },
   "source": [
    "## 3.3 Matrice de confusion (0.5 point)\n",
    "\n",
    "La matrice de confusion A est telle que $A_{i,j}$ correspond au nombre d'exemples de la classe i classifié comme appartenant à la classe j.\n",
    "\n",
    "Entrainez le modèle sélectionné sur la totalité de l'ensemble d'entraînement.\n",
    "A l'aide de la matrice de confusion et de la distribution des classes, analysez plus en détail les performances du modèle choisi et **justifiez** les."
   ]
  },
  {
   "cell_type": "code",
   "execution_count": 85,
   "metadata": {},
   "outputs": [
    {
     "name": "stdout",
     "output_type": "stream",
     "text": [
      "Fitting 3 folds for each of 6 candidates, totalling 18 fits\n"
     ]
    },
    {
     "name": "stderr",
     "output_type": "stream",
     "text": [
      "[Parallel(n_jobs=-1)]: Using backend LokyBackend with 8 concurrent workers.\n",
      "[Parallel(n_jobs=-1)]: Done  13 out of  18 | elapsed:  1.2min remaining:   28.7s\n",
      "[Parallel(n_jobs=-1)]: Done  18 out of  18 | elapsed:  1.5min finished\n"
     ]
    },
    {
     "name": "stdout",
     "output_type": "stream",
     "text": [
      "-0.369 (+/-0.003) for {'activation': 'tanh', 'alpha': 0.0001, 'hidden_layer_sizes': (50, 50, 50), 'learning_rate': 'adaptive', 'solver': 'adam'}\n",
      "-0.415 (+/-0.013) for {'activation': 'tanh', 'alpha': 0.0001, 'hidden_layer_sizes': (100, 100, 100), 'learning_rate': 'adaptive', 'solver': 'adam'}\n",
      "-0.358 (+/-0.002) for {'activation': 'tanh', 'alpha': 0.0001, 'hidden_layer_sizes': (25, 50, 25), 'learning_rate': 'adaptive', 'solver': 'adam'}\n",
      "-0.349 (+/-0.006) for {'activation': 'tanh', 'alpha': 0.05, 'hidden_layer_sizes': (50, 50, 50), 'learning_rate': 'adaptive', 'solver': 'adam'}\n",
      "-0.351 (+/-0.012) for {'activation': 'tanh', 'alpha': 0.05, 'hidden_layer_sizes': (100, 100, 100), 'learning_rate': 'adaptive', 'solver': 'adam'}\n",
      "-0.349 (+/-0.005) for {'activation': 'tanh', 'alpha': 0.05, 'hidden_layer_sizes': (25, 50, 25), 'learning_rate': 'adaptive', 'solver': 'adam'}\n"
     ]
    },
    {
     "name": "stderr",
     "output_type": "stream",
     "text": [
      "C:\\Users\\gabig\\Anaconda3\\lib\\site-packages\\sklearn\\neural_network\\multilayer_perceptron.py:562: ConvergenceWarning: Stochastic Optimizer: Maximum iterations (100) reached and the optimization hasn't converged yet.\n",
      "  % self.max_iter, ConvergenceWarning)\n"
     ]
    }
   ],
   "source": [
    "parameter_space = {\n",
    "    'hidden_layer_sizes': [(50,50,50), (100, 100, 100), (25, 50, 25)],\n",
    "    'activation': ['tanh'],\n",
    "    'solver': ['adam'],\n",
    "    'alpha': [0.0001, 0.05],\n",
    "    'learning_rate': ['adaptive'],\n",
    "}\n",
    "mlp = MLPClassifier(max_iter=100)\n",
    "clf = GridSearchCV(mlp, parameter_space, n_jobs=-1, verbose=2, cv=3, scoring='neg_log_loss')\n",
    "clf.fit(X_train_pipe,y_train_label)\n",
    "print_metrics(clf)"
   ]
  },
  {
   "cell_type": "code",
   "execution_count": 96,
   "metadata": {},
   "outputs": [],
   "source": [
    "y_pred = clf.predict(X_train_pipe)"
   ]
  },
  {
   "cell_type": "markdown",
   "metadata": {
    "colab_type": "text",
    "id": "ncXnd9W4XG1-"
   },
   "source": [
    "###### Matrice de confusion"
   ]
  },
  {
   "cell_type": "code",
   "execution_count": 97,
   "metadata": {
    "colab": {},
    "colab_type": "code",
    "id": "fV5tkE0bXG1_"
   },
   "outputs": [
    {
     "data": {
      "text/html": [
       "<div>\n",
       "<style scoped>\n",
       "    .dataframe tbody tr th:only-of-type {\n",
       "        vertical-align: middle;\n",
       "    }\n",
       "\n",
       "    .dataframe tbody tr th {\n",
       "        vertical-align: top;\n",
       "    }\n",
       "\n",
       "    .dataframe thead th {\n",
       "        text-align: right;\n",
       "    }\n",
       "</style>\n",
       "<table border=\"1\" class=\"dataframe\">\n",
       "  <thead>\n",
       "    <tr style=\"text-align: right;\">\n",
       "      <th></th>\n",
       "      <th>&lt;=50K</th>\n",
       "      <th>&gt;50K</th>\n",
       "    </tr>\n",
       "  </thead>\n",
       "  <tbody>\n",
       "    <tr>\n",
       "      <th>&lt;=50K</th>\n",
       "      <td>22661</td>\n",
       "      <td>2288</td>\n",
       "    </tr>\n",
       "    <tr>\n",
       "      <th>&gt;50K</th>\n",
       "      <td>2969</td>\n",
       "      <td>4805</td>\n",
       "    </tr>\n",
       "  </tbody>\n",
       "</table>\n",
       "</div>"
      ],
      "text/plain": [
       "         <=50K   >50K\n",
       " <=50K   22661   2288\n",
       " >50K     2969   4805"
      ]
     },
     "execution_count": 97,
     "metadata": {},
     "output_type": "execute_result"
    }
   ],
   "source": [
    "from sklearn.metrics import confusion_matrix\n",
    "pd.DataFrame(confusion_matrix(y_train_label, y_pred), columns = target_label.classes_, index = target_label.classes_)"
   ]
  },
  {
   "cell_type": "markdown",
   "metadata": {
    "colab_type": "text",
    "id": "2HyBqtMjXG2B"
   },
   "source": [
    "###### Distribution des classes"
   ]
  },
  {
   "cell_type": "code",
   "execution_count": 98,
   "metadata": {
    "colab": {},
    "colab_type": "code",
    "id": "Z_emYEYKXG2B"
   },
   "outputs": [
    {
     "name": "stdout",
     "output_type": "stream",
     "text": [
      "[' <=50K' ' >50K']\n"
     ]
    },
    {
     "data": {
      "text/plain": [
       "<matplotlib.axes._subplots.AxesSubplot at 0x23052eacd68>"
      ]
     },
     "execution_count": 98,
     "metadata": {},
     "output_type": "execute_result"
    },
    {
     "data": {
      "image/png": "[encoded data removed]",
      "text/plain": [
       "<Figure size 432x288 with 1 Axes>"
      ]
     },
     "metadata": {
      "needs_background": "light"
     },
     "output_type": "display_data"
    }
   ],
   "source": [
    "import matplotlib.pyplot as plt \n",
    "print(target_label.classes_)\n",
    "pd.Series(y_train_label).hist()"
   ]
  },
  {
   "cell_type": "markdown",
   "metadata": {
    "colab_type": "text",
    "id": "ee-L7b131tf3"
   },
   "source": [
    "Avec la matrice de confusion, on voit que les gens ayant un salaire <= 50K sont prédits à 96%, alors que ceux avec un salaire plus élevé que 50K sont prédits à seulement 53%. Cela s'explique probablement par le plus grand nombre de données avec un salaire <= 50K dans le jeu de données d'entraînement. Pour les données avec un salaire plus élevée que 50K, nous avons probablement mal correlés certaines facteurs. Toutefois, avec un score de 0,86066 , on juge avoir tout de même un bon jeu de données modifiées. On ne veut pas faire du overfitting non plus."
   ]
  },
  {
   "cell_type": "markdown",
   "metadata": {
    "colab_type": "text",
    "id": "5lfReUdgXG2I"
   },
   "source": [
    "## 3.4 Soumission (0.5 point)\n",
    "\n",
    "Enfin, effectuez la prédiction sur l'ensemble de test et joignez les résultats au rendu du TP. Vous devez soumettre vos résultats sur kaggle. Vous pouvez choisir jusqu'à deux modèles. Par défaut, les deux dernières soumissions sont prises. La justification (les section 3.2 et 3.3) sont seulement demandée pour le meilleur modèle selon vous.\n",
    "\n",
    "**ATTENTION:** N'oubliez pas de respecter le format du fichier de soumission. En cas d'erreur, Kaggle score 0.0 pour la soumission."
   ]
  },
  {
   "cell_type": "code",
   "execution_count": 95,
   "metadata": {
    "colab": {},
    "colab_type": "code",
    "id": "-deVgNIpXG2J"
   },
   "outputs": [
    {
     "name": "stderr",
     "output_type": "stream",
     "text": [
      "C:\\Users\\gabig\\Anaconda3\\lib\\site-packages\\ipykernel_launcher.py:3: FutureWarning: The signature of `Series.to_csv` was aligned to that of `DataFrame.to_csv`, and argument 'header' will change its default value from False to True: please pass an explicit value to suppress this warning.\n",
      "  This is separate from the ipykernel package so we can avoid doing imports until\n"
     ]
    }
   ],
   "source": [
    "best_model_1 = clf\n",
    "pred_test = pd.Series(best_model_1.predict(X_test_pipe))\n",
    "pred_test.to_csv(\"test_prediction_1.csv\",index = False)"
   ]
  }
 ],
 "metadata": {
  "colab": {
   "collapsed_sections": [],
   "name": "TP3_INF8215.ipynb",
   "provenance": [],
   "toc_visible": true
  },
  "kernelspec": {
   "display_name": "Python 3",
   "language": "python",
   "name": "python3"
  },
  "language_info": {
   "codemirror_mode": {
    "name": "ipython",
    "version": 3
   },
   "file_extension": ".py",
   "mimetype": "text/x-python",
   "name": "python",
   "nbconvert_exporter": "python",
   "pygments_lexer": "ipython3",
   "version": "3.8.0"
  }
 },
 "nbformat": 4,
 "nbformat_minor": 1
}
